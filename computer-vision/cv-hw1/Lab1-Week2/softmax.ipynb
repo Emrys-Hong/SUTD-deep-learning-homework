{
 "cells": [
  {
   "cell_type": "markdown",
   "metadata": {},
   "source": [
    "# Softmax exercise\n",
    "\n",
    "*Complete and hand in this completed worksheet (including its outputs and any supporting code outside of the worksheet) with your assignment submission.*\n",
    "\n",
    "In this exercise, you will:\n",
    "\n",
    "- implement a fully-vectorized **loss function** for the Softmax classifier\n",
    "- implement the fully-vectorized expression for its **analytic gradient**\n",
    "- **check your implementation** with numerical gradient\n",
    "- use a validation set to **tune the learning rate and regularization** strength\n",
    "- **optimize** the loss function with **SGD**\n",
    "- **visualize** the final learned weights\n"
   ]
  },
  {
   "cell_type": "markdown",
   "metadata": {},
   "source": [
    "**Acknowledgement: This exercise is adapted from [Stanford CS231n](http://cs231n.stanford.edu/).**"
   ]
  },
  {
   "cell_type": "code",
   "execution_count": 1,
   "metadata": {},
   "outputs": [],
   "source": [
    "import random\n",
    "import numpy as np\n",
    "from data_utils import load_CIFAR10\n",
    "import matplotlib.pyplot as plt\n",
    "\n",
    "%matplotlib inline\n",
    "plt.rcParams['figure.figsize'] = (10.0, 8.0) # set default size of plots\n",
    "plt.rcParams['image.interpolation'] = 'nearest'\n",
    "plt.rcParams['image.cmap'] = 'gray'\n",
    "\n",
    "# for auto-reloading extenrnal modules\n",
    "# see http://stackoverflow.com/questions/1907993/autoreload-of-modules-in-ipython\n",
    "%load_ext autoreload\n",
    "%autoreload 2"
   ]
  },
  {
   "cell_type": "code",
   "execution_count": 2,
   "metadata": {},
   "outputs": [],
   "source": [
    "def rel_error(out, correct_out):\n",
    "    return np.sum(abs(out - correct_out) / (abs(out) + abs(correct_out)))"
   ]
  },
  {
   "cell_type": "code",
   "execution_count": 3,
   "metadata": {},
   "outputs": [
    {
     "name": "stdout",
     "output_type": "stream",
     "text": [
      "Train data shape:  (49000, 3073)\n",
      "Train labels shape:  (49000,)\n",
      "Validation data shape:  (1000, 3073)\n",
      "Validation labels shape:  (1000,)\n",
      "Test data shape:  (1000, 3073)\n",
      "Test labels shape:  (1000,)\n",
      "dev data shape:  (500, 3073)\n",
      "dev labels shape:  (500,)\n"
     ]
    }
   ],
   "source": [
    "def get_CIFAR10_data(num_training=49000, num_validation=1000, num_test=1000, num_dev=500):\n",
    "    \"\"\"\n",
    "    Load the CIFAR-10 dataset from disk and perform preprocessing to prepare\n",
    "    it for the linear classifier. These are the same steps as we used for the\n",
    "    Softmax, but condensed to a single function.  \n",
    "    \"\"\"\n",
    "    # Load the raw CIFAR-10 data\n",
    "    cifar10_dir = 'datasets/cifar-10-batches-py'\n",
    "    X_train, y_train, X_test, y_test = load_CIFAR10(cifar10_dir)\n",
    "\n",
    "    # subsample the data\n",
    "    mask = range(num_training, num_training + num_validation)\n",
    "    X_val = X_train[mask]\n",
    "    y_val = y_train[mask]\n",
    "    mask = range(num_training)\n",
    "    X_train = X_train[mask]\n",
    "    y_train = y_train[mask]\n",
    "    mask = range(num_test)\n",
    "    X_test = X_test[mask]\n",
    "    y_test = y_test[mask]\n",
    "    \n",
    "    # # We will also make a development set, which is a small subset of\n",
    "    # the training set.\n",
    "    mask = np.random.choice(num_training, num_dev, replace=False)\n",
    "    X_dev = X_train[mask]\n",
    "    y_dev = y_train[mask]\n",
    "\n",
    "    # Preprocessing: reshape the image data into rows\n",
    "    X_train = np.reshape(X_train, (X_train.shape[0], -1))\n",
    "    X_val = np.reshape(X_val, (X_val.shape[0], -1))\n",
    "    X_test = np.reshape(X_test, (X_test.shape[0], -1))\n",
    "    X_dev = np.reshape(X_dev, (X_dev.shape[0], -1))\n",
    "\n",
    "    # Normalize the data: subtract the mean image\n",
    "    mean_image = np.mean(X_train, axis = 0)\n",
    "    X_train -= mean_image\n",
    "    X_val -= mean_image\n",
    "    X_test -= mean_image\n",
    "    X_dev -= mean_image\n",
    "\n",
    "    # add bias dimension and transform into columns\n",
    "    X_train = np.hstack([X_train, np.ones((X_train.shape[0], 1))])\n",
    "    X_val = np.hstack([X_val, np.ones((X_val.shape[0], 1))])\n",
    "    X_test = np.hstack([X_test, np.ones((X_test.shape[0], 1))])\n",
    "    X_dev = np.hstack([X_dev, np.ones((X_dev.shape[0], 1))])\n",
    "\n",
    "    return X_train, y_train, X_val, y_val, X_test, y_test, X_dev, y_dev\n",
    "\n",
    "\n",
    "# Invoke the above function to get our data.\n",
    "X_train, y_train, X_val, y_val, X_test, y_test, X_dev, y_dev = get_CIFAR10_data()\n",
    "print('Train data shape: ', X_train.shape)\n",
    "print('Train labels shape: ', y_train.shape)\n",
    "print('Validation data shape: ', X_val.shape)\n",
    "print('Validation labels shape: ', y_val.shape)\n",
    "print('Test data shape: ', X_test.shape)\n",
    "print('Test labels shape: ', y_test.shape)\n",
    "print('dev data shape: ', X_dev.shape)\n",
    "print('dev labels shape: ', y_dev.shape)"
   ]
  },
  {
   "cell_type": "code",
   "execution_count": 4,
   "metadata": {},
   "outputs": [],
   "source": [
    "# Create one-hot vectors for label\n",
    "num_class = 10\n",
    "y_train_oh = np.zeros((y_train.shape[0], 10))\n",
    "y_train_oh[np.arange(y_train.shape[0]), y_train] = 1\n",
    "y_val_oh = np.zeros((y_val.shape[0], 10))\n",
    "y_val_oh[np.arange(y_val.shape[0]), y_val] = 1\n",
    "y_test_oh = np.zeros((y_test.shape[0], 10))\n",
    "y_test_oh[np.arange(y_test.shape[0]), y_test] = 1\n",
    "\n",
    "y_dev_oh = np.zeros((y_dev.shape[0], 10))\n",
    "y_dev_oh[np.arange(y_dev.shape[0]), y_dev] = 1"
   ]
  },
  {
   "cell_type": "markdown",
   "metadata": {},
   "source": [
    "# Regression as classifier\n",
    "The most simple and straightforward approach to learn a classifier is to map the input data (raw image values) to class label (one-hot vector). The loss function is defined as following: \n",
    "$$\\mathcal{L}=\\frac{1}{n}\\|\\mathbf{X}\\mathbf{W}-\\mathbf{y}\\|_F^2\\qquad\\qquad(1)$$\n",
    "Where:\n",
    "* $\\mathbf{W}\\in \\mathbb{R}^{(d+1)\\times C}$: Classifier weight\n",
    "* $\\mathbf{X}\\in \\mathbb{R}^{n\\times (d+1)}$: Dataset\n",
    "* $\\mathbf{y}\\in \\mathbb{R}^{n\\times C}$: Class label (one-hot vector)"
   ]
  },
  {
   "cell_type": "markdown",
   "metadata": {},
   "source": [
    "# Optimization\n",
    "Given the loss function (1), the next problem is how to solve the weight $\\mathbf{W}$. We now discuss 2 approaches: \n",
    " * Random search\n",
    " * Closed-form solution\n",
    "\n",
    "## Random search"
   ]
  },
  {
   "cell_type": "code",
   "execution_count": 5,
   "metadata": {},
   "outputs": [
    {
     "name": "stdout",
     "output_type": "stream",
     "text": [
      "in attempt 0 the loss was 33.453308, best 33.453308\n",
      "in attempt 1 the loss was 34.829019, best 33.453308\n",
      "in attempt 2 the loss was 31.473220, best 31.473220\n",
      "in attempt 3 the loss was 31.239511, best 31.239511\n",
      "in attempt 4 the loss was 33.007011, best 31.239511\n",
      "in attempt 5 the loss was 35.179536, best 31.239511\n",
      "in attempt 6 the loss was 33.831705, best 31.239511\n",
      "in attempt 7 the loss was 34.503061, best 31.239511\n",
      "in attempt 8 the loss was 33.165550, best 31.239511\n",
      "in attempt 9 the loss was 36.943861, best 31.239511\n",
      "in attempt 10 the loss was 34.876840, best 31.239511\n",
      "in attempt 11 the loss was 34.247628, best 31.239511\n",
      "in attempt 12 the loss was 33.188583, best 31.239511\n",
      "in attempt 13 the loss was 32.214380, best 31.239511\n",
      "in attempt 14 the loss was 32.551340, best 31.239511\n",
      "in attempt 15 the loss was 32.855811, best 31.239511\n",
      "in attempt 16 the loss was 36.085276, best 31.239511\n",
      "in attempt 17 the loss was 35.138241, best 31.239511\n",
      "in attempt 18 the loss was 33.396083, best 31.239511\n",
      "in attempt 19 the loss was 32.671226, best 31.239511\n",
      "in attempt 20 the loss was 35.864115, best 31.239511\n",
      "in attempt 21 the loss was 32.906844, best 31.239511\n",
      "in attempt 22 the loss was 34.950605, best 31.239511\n",
      "in attempt 23 the loss was 31.496346, best 31.239511\n",
      "in attempt 24 the loss was 34.750799, best 31.239511\n",
      "in attempt 25 the loss was 36.639156, best 31.239511\n",
      "in attempt 26 the loss was 31.207630, best 31.207630\n",
      "in attempt 27 the loss was 35.673712, best 31.207630\n",
      "in attempt 28 the loss was 34.852976, best 31.207630\n",
      "in attempt 29 the loss was 31.252518, best 31.207630\n",
      "in attempt 30 the loss was 35.215657, best 31.207630\n",
      "in attempt 31 the loss was 32.896832, best 31.207630\n",
      "in attempt 32 the loss was 30.538329, best 30.538329\n",
      "in attempt 33 the loss was 31.651236, best 30.538329\n",
      "in attempt 34 the loss was 31.760502, best 30.538329\n",
      "in attempt 35 the loss was 35.024384, best 30.538329\n",
      "in attempt 36 the loss was 34.205635, best 30.538329\n",
      "in attempt 37 the loss was 32.676258, best 30.538329\n",
      "in attempt 38 the loss was 35.282635, best 30.538329\n",
      "in attempt 39 the loss was 32.191234, best 30.538329\n",
      "in attempt 40 the loss was 39.455957, best 30.538329\n",
      "in attempt 41 the loss was 34.063744, best 30.538329\n",
      "in attempt 42 the loss was 33.165569, best 30.538329\n",
      "in attempt 43 the loss was 30.708089, best 30.538329\n",
      "in attempt 44 the loss was 35.698327, best 30.538329\n",
      "in attempt 45 the loss was 31.249810, best 30.538329\n",
      "in attempt 46 the loss was 33.977987, best 30.538329\n",
      "in attempt 47 the loss was 36.295973, best 30.538329\n",
      "in attempt 48 the loss was 35.304431, best 30.538329\n",
      "in attempt 49 the loss was 33.312435, best 30.538329\n",
      "in attempt 50 the loss was 34.551679, best 30.538329\n",
      "in attempt 51 the loss was 31.801661, best 30.538329\n",
      "in attempt 52 the loss was 33.795221, best 30.538329\n",
      "in attempt 53 the loss was 32.800190, best 30.538329\n",
      "in attempt 54 the loss was 33.489268, best 30.538329\n",
      "in attempt 55 the loss was 32.190015, best 30.538329\n",
      "in attempt 56 the loss was 32.983870, best 30.538329\n",
      "in attempt 57 the loss was 30.208170, best 30.208170\n",
      "in attempt 58 the loss was 32.906674, best 30.208170\n",
      "in attempt 59 the loss was 32.933883, best 30.208170\n",
      "in attempt 60 the loss was 34.621018, best 30.208170\n",
      "in attempt 61 the loss was 32.779430, best 30.208170\n",
      "in attempt 62 the loss was 30.950497, best 30.208170\n",
      "in attempt 63 the loss was 32.101768, best 30.208170\n",
      "in attempt 64 the loss was 32.922917, best 30.208170\n",
      "in attempt 65 the loss was 34.767140, best 30.208170\n",
      "in attempt 66 the loss was 33.391403, best 30.208170\n",
      "in attempt 67 the loss was 32.405983, best 30.208170\n",
      "in attempt 68 the loss was 31.014397, best 30.208170\n",
      "in attempt 69 the loss was 33.798761, best 30.208170\n",
      "in attempt 70 the loss was 32.456555, best 30.208170\n",
      "in attempt 71 the loss was 33.185482, best 30.208170\n",
      "in attempt 72 the loss was 34.111552, best 30.208170\n",
      "in attempt 73 the loss was 33.543013, best 30.208170\n",
      "in attempt 74 the loss was 32.776773, best 30.208170\n",
      "in attempt 75 the loss was 32.887352, best 30.208170\n",
      "in attempt 76 the loss was 31.987782, best 30.208170\n",
      "in attempt 77 the loss was 35.928161, best 30.208170\n",
      "in attempt 78 the loss was 32.449743, best 30.208170\n",
      "in attempt 79 the loss was 32.492879, best 30.208170\n",
      "in attempt 80 the loss was 33.713112, best 30.208170\n",
      "in attempt 81 the loss was 31.883631, best 30.208170\n",
      "in attempt 82 the loss was 35.030211, best 30.208170\n",
      "in attempt 83 the loss was 31.568649, best 30.208170\n",
      "in attempt 84 the loss was 32.535154, best 30.208170\n",
      "in attempt 85 the loss was 32.360396, best 30.208170\n",
      "in attempt 86 the loss was 35.394686, best 30.208170\n",
      "in attempt 87 the loss was 34.337066, best 30.208170\n",
      "in attempt 88 the loss was 33.959422, best 30.208170\n",
      "in attempt 89 the loss was 34.212582, best 30.208170\n",
      "in attempt 90 the loss was 33.217810, best 30.208170\n",
      "in attempt 91 the loss was 33.707216, best 30.208170\n",
      "in attempt 92 the loss was 33.386552, best 30.208170\n",
      "in attempt 93 the loss was 34.457281, best 30.208170\n",
      "in attempt 94 the loss was 35.780798, best 30.208170\n",
      "in attempt 95 the loss was 33.614960, best 30.208170\n",
      "in attempt 96 the loss was 35.045592, best 30.208170\n",
      "in attempt 97 the loss was 34.505653, best 30.208170\n",
      "in attempt 98 the loss was 33.510016, best 30.208170\n",
      "in attempt 99 the loss was 32.935840, best 30.208170\n"
     ]
    }
   ],
   "source": [
    "bestloss = float('inf')\n",
    "for num in range(100):\n",
    "    W = np.random.randn(3073, 10) * 0.0001\n",
    "    loss = np.linalg.norm(X_dev.dot(W) - y_dev_oh)\n",
    "    if (loss < bestloss):\n",
    "        bestloss = loss\n",
    "        bestW = W\n",
    "    print('in attempt %d the loss was %f, best %f' % (num, loss, bestloss))"
   ]
  },
  {
   "cell_type": "code",
   "execution_count": 6,
   "metadata": {},
   "outputs": [
    {
     "name": "stdout",
     "output_type": "stream",
     "text": [
      "Accuracy on train set:  6.6000000000000005\n",
      "Accuracy on test set:  7.8\n"
     ]
    }
   ],
   "source": [
    "# How bestW perform:\n",
    "print('Accuracy on train set: ', np.sum(np.argmin(np.abs(1 - X_dev.dot(W)), axis=1) == y_dev).astype(np.float32)/y_dev.shape[0]*100)\n",
    "print('Accuracy on test set: ', np.sum(np.argmin(np.abs(1 - X_test.dot(W)), axis=1) == y_test).astype(np.float32)/y_test.shape[0]*100)"
   ]
  },
  {
   "cell_type": "markdown",
   "metadata": {},
   "source": [
    "You can clearly see that the performance is very low, almost at the random level."
   ]
  },
  {
   "cell_type": "markdown",
   "metadata": {},
   "source": [
    "## Closed-form solution\n",
    "The closed-form solution is achieved by:\n",
    "$$\\frac{\\partial\\mathcal{L}}{\\partial \\mathbf{W}}=\\frac{2}{n}\\mathbf{X}^T(\\mathbf{X}\\mathbf{W}-\\mathbf{y})=0$$\n",
    "\n",
    "$$\\Leftrightarrow\\mathbf{W}^\\ast=(\\mathbf{X}^T\\mathbf{X})^{-1}\\mathbf{X}^T\\mathbf{y}$$"
   ]
  },
  {
   "cell_type": "code",
   "execution_count": 7,
   "metadata": {},
   "outputs": [],
   "source": [
    "################################################################################\n",
    "# TODO:                                                                        #\n",
    "# Implement the closed-form solution of the weight W.                          #\n",
    "################################################################################\n",
    "X, y = X_train, y_train_oh\n",
    "W = np.linalg.inv(X.T.dot(X)).dot(X.T).dot(y)\n",
    "################################################################################\n",
    "#                              END OF YOUR CODE                                #\n",
    "################################################################################"
   ]
  },
  {
   "cell_type": "code",
   "execution_count": 8,
   "metadata": {},
   "outputs": [
    {
     "name": "stdout",
     "output_type": "stream",
     "text": [
      "Train set accuracy:  51.163265306122454\n",
      "Test set accuracy:  36.199999999999996\n"
     ]
    }
   ],
   "source": [
    "# Check accuracy:\n",
    "print('Train set accuracy: ', np.sum(np.argmin(np.abs(1 - X_train.dot(W)), axis=1) == y_train).astype(np.float32)/y_train.shape[0]*100)\n",
    "print('Test set accuracy: ', np.sum(np.argmin(np.abs(1 - X_test.dot(W)), axis=1) == y_test).astype(np.float32)/y_test.shape[0]*100)"
   ]
  },
  {
   "cell_type": "markdown",
   "metadata": {},
   "source": [
    "Now, you can see that the performance is much better."
   ]
  },
  {
   "cell_type": "markdown",
   "metadata": {},
   "source": [
    "## Regularization\n",
    "A simple way to improve performance is to include the L2-regularization penalty.\n",
    "$$\\mathcal{L}=\\frac{1}{n}\\|\\mathbf{X}\\mathbf{W}-\\mathbf{y}\\|_F^2 +\\lambda \\|\\mathbf{W}\\|_F^2 \\qquad\\qquad(2)$$\n",
    "The closed-form solution now is: \n",
    "$$\\Leftrightarrow\\mathbf{W}^\\ast=(\\mathbf{X}^T\\mathbf{X}+\\lambda n\\mathbf{I})^{-1}\\mathbf{X}^T\\mathbf{y}$$"
   ]
  },
  {
   "cell_type": "code",
   "execution_count": null,
   "metadata": {},
   "outputs": [],
   "source": [
    "# try several values of lambda to see how it helps:\n",
    "lambdas = [0.01, 0.1, 1, 10, 100, 1000, 10000, 100000]\n",
    "train_acc = np.zeros((len(lambdas)))\n",
    "test_acc = np.zeros((len(lambdas)))\n",
    "for i in range(len(lambdas)):\n",
    "    l = lambdas[i]\n",
    "    n,d = X_train.shape[0], X_train.shape[1]\n",
    "    ################################################################################\n",
    "    # TODO:                                                                        #\n",
    "    # Implement the closed-form solution of the weight W with regularization.      #\n",
    "    ################################################################################\n",
    "    W = np.linalg.inv(X.T.dot(X) + l*n*np.eye(d)).dot(X.T).dot(y)\n",
    "    ################################################################################\n",
    "    #                              END OF YOUR CODE                                #\n",
    "    ################################################################################\n",
    "    train_acc[i] = np.sum(np.argmin(np.abs(1 - X_train.dot(W)), axis=1) == y_train).astype(np.float32)/y_train.shape[0]*100\n",
    "    test_acc[i]  = np.sum(np.argmin(np.abs(1 - X_test.dot(W)), axis=1) == y_test).astype(np.float32)/y_test.shape[0]*100"
   ]
  },
  {
   "cell_type": "code",
   "execution_count": null,
   "metadata": {},
   "outputs": [],
   "source": [
    "plt.semilogx(lambdas, train_acc, 'r', label=\"Training accuracy\")\n",
    "plt.semilogx(lambdas, test_acc, 'g', label=\"Testing accuracy\")\n",
    "\n",
    "plt.legend()\n",
    "plt.grid(True)\n",
    "plt.show()"
   ]
  },
  {
   "cell_type": "markdown",
   "metadata": {},
   "source": [
    "**Question:** Try to explain why the performances on the training and test set have such behaviors as we change the value of $\\lambda$."
   ]
  },
  {
   "cell_type": "markdown",
   "metadata": {},
   "source": [
    "**Your answer:** \n",
    "1. As lambda gets bigger, the regularization on W is bigger thus the ability for W to overfit on train dataset will be smaller. Therefore, the accuracy on training set keep decreasing\n",
    "2. As lambda gets bigger from 10-2 ~ 103 the ability to generalize on unseen dataset (test set) is stronger, so the testing accuracy increases. While lambda ranges from 103~105, the ability to model the data is decreasing, therefore the acc decreases"
   ]
  },
  {
   "cell_type": "markdown",
   "metadata": {},
   "source": [
    "## Softmax Classifier\n",
    "\n",
    "The predicted probability for the $j$-th class given a sample vector $x$ and a weight $W$ is:\n",
    "\n",
    "$$\\displaystyle{P(y=j\\mid x)=\\frac{e^{-xw_j}}{\\sum\\limits_{c=1}^{C}e^{-xw_c}}}$$ \n",
    "\n",
    "![softmax](imgs/softmax.png \"Example of Softmax\")\n",
    "\n",
    "Your code for this section will all be written inside **classifiers/softmax.py**. \n"
   ]
  },
  {
   "cell_type": "code",
   "execution_count": 33,
   "metadata": {
    "scrolled": true
   },
   "outputs": [
    {
     "name": "stdout",
     "output_type": "stream",
     "text": [
      "loss: 2.354304\n",
      "sanity check: 2.302585\n"
     ]
    }
   ],
   "source": [
    "# First implement the naive softmax loss function with nested loops.\n",
    "# Open the file classifiers/softmax.py and implement the\n",
    "# softmax_loss_naive function.\n",
    "\n",
    "from classifiers.softmax import softmax_loss_naive\n",
    "import time\n",
    "\n",
    "\n",
    "# Generate a random softmax weight matrix and use it to compute the loss.\n",
    "W = np.random.randn(3073, 10) * 0.0001\n",
    "loss, grad = softmax_loss_naive(W, X_dev, y_dev, 0.0)\n",
    "\n",
    "# As a rough sanity check, our loss should be something close to -log(0.1).\n",
    "print('loss: %f' % loss)\n",
    "print('sanity check: %f' % (-np.log(0.1)))"
   ]
  },
  {
   "cell_type": "markdown",
   "metadata": {},
   "source": [
    "**Question:** Why do we expect our loss to be close to -log(0.1)? Explain briefly.**"
   ]
  },
  {
   "cell_type": "markdown",
   "metadata": {},
   "source": [
    "**Your answer:**\\\n",
    "Since we have 10 classes, the probability for one class to be randomly choosen is 0.1. Therefore the loss overall the dataset should be equal to -log(0.1)"
   ]
  },
  {
   "cell_type": "markdown",
   "metadata": {},
   "source": [
    "# Optimization\n",
    "\n",
    "\n",
    "## Random search"
   ]
  },
  {
   "cell_type": "code",
   "execution_count": 34,
   "metadata": {},
   "outputs": [
    {
     "name": "stdout",
     "output_type": "stream",
     "text": [
      "in attempt 0 the loss was 2.320493, best 2.320493\n",
      "in attempt 1 the loss was 2.340010, best 2.320493\n",
      "in attempt 2 the loss was 2.342721, best 2.320493\n",
      "in attempt 3 the loss was 2.420601, best 2.320493\n",
      "in attempt 4 the loss was 2.345147, best 2.320493\n",
      "in attempt 5 the loss was 2.355724, best 2.320493\n",
      "in attempt 6 the loss was 2.393450, best 2.320493\n",
      "in attempt 7 the loss was 2.306439, best 2.306439\n",
      "in attempt 8 the loss was 2.376274, best 2.306439\n",
      "in attempt 9 the loss was 2.325218, best 2.306439\n",
      "in attempt 10 the loss was 2.349045, best 2.306439\n",
      "in attempt 11 the loss was 2.330949, best 2.306439\n",
      "in attempt 12 the loss was 2.328849, best 2.306439\n",
      "in attempt 13 the loss was 2.345736, best 2.306439\n",
      "in attempt 14 the loss was 2.324455, best 2.306439\n",
      "in attempt 15 the loss was 2.402994, best 2.306439\n",
      "in attempt 16 the loss was 2.360980, best 2.306439\n",
      "in attempt 17 the loss was 2.357219, best 2.306439\n",
      "in attempt 18 the loss was 2.355962, best 2.306439\n",
      "in attempt 19 the loss was 2.273388, best 2.273388\n",
      "in attempt 20 the loss was 2.369695, best 2.273388\n",
      "in attempt 21 the loss was 2.312739, best 2.273388\n",
      "in attempt 22 the loss was 2.340572, best 2.273388\n",
      "in attempt 23 the loss was 2.418186, best 2.273388\n",
      "in attempt 24 the loss was 2.335242, best 2.273388\n",
      "in attempt 25 the loss was 2.350034, best 2.273388\n",
      "in attempt 26 the loss was 2.362903, best 2.273388\n",
      "in attempt 27 the loss was 2.379982, best 2.273388\n",
      "in attempt 28 the loss was 2.395403, best 2.273388\n",
      "in attempt 29 the loss was 2.361369, best 2.273388\n",
      "in attempt 30 the loss was 2.300526, best 2.273388\n",
      "in attempt 31 the loss was 2.387739, best 2.273388\n",
      "in attempt 32 the loss was 2.381078, best 2.273388\n",
      "in attempt 33 the loss was 2.391250, best 2.273388\n",
      "in attempt 34 the loss was 2.334196, best 2.273388\n",
      "in attempt 35 the loss was 2.375055, best 2.273388\n",
      "in attempt 36 the loss was 2.399611, best 2.273388\n",
      "in attempt 37 the loss was 2.304981, best 2.273388\n",
      "in attempt 38 the loss was 2.287400, best 2.273388\n",
      "in attempt 39 the loss was 2.329251, best 2.273388\n",
      "in attempt 40 the loss was 2.305543, best 2.273388\n",
      "in attempt 41 the loss was 2.278320, best 2.273388\n",
      "in attempt 42 the loss was 2.372624, best 2.273388\n",
      "in attempt 43 the loss was 2.377342, best 2.273388\n",
      "in attempt 44 the loss was 2.351156, best 2.273388\n",
      "in attempt 45 the loss was 2.364777, best 2.273388\n",
      "in attempt 46 the loss was 2.361062, best 2.273388\n",
      "in attempt 47 the loss was 2.371776, best 2.273388\n",
      "in attempt 48 the loss was 2.295616, best 2.273388\n",
      "in attempt 49 the loss was 2.319356, best 2.273388\n",
      "in attempt 50 the loss was 2.410989, best 2.273388\n",
      "in attempt 51 the loss was 2.383621, best 2.273388\n",
      "in attempt 52 the loss was 2.330341, best 2.273388\n",
      "in attempt 53 the loss was 2.376547, best 2.273388\n",
      "in attempt 54 the loss was 2.364866, best 2.273388\n",
      "in attempt 55 the loss was 2.411262, best 2.273388\n",
      "in attempt 56 the loss was 2.291213, best 2.273388\n",
      "in attempt 57 the loss was 2.340930, best 2.273388\n",
      "in attempt 58 the loss was 2.423644, best 2.273388\n",
      "in attempt 59 the loss was 2.413374, best 2.273388\n",
      "in attempt 60 the loss was 2.379552, best 2.273388\n",
      "in attempt 61 the loss was 2.351346, best 2.273388\n",
      "in attempt 62 the loss was 2.319717, best 2.273388\n",
      "in attempt 63 the loss was 2.314708, best 2.273388\n",
      "in attempt 64 the loss was 2.373071, best 2.273388\n",
      "in attempt 65 the loss was 2.361038, best 2.273388\n",
      "in attempt 66 the loss was 2.343449, best 2.273388\n",
      "in attempt 67 the loss was 2.353811, best 2.273388\n",
      "in attempt 68 the loss was 2.368598, best 2.273388\n",
      "in attempt 69 the loss was 2.387175, best 2.273388\n",
      "in attempt 70 the loss was 2.361546, best 2.273388\n",
      "in attempt 71 the loss was 2.366465, best 2.273388\n",
      "in attempt 72 the loss was 2.328836, best 2.273388\n",
      "in attempt 73 the loss was 2.374550, best 2.273388\n",
      "in attempt 74 the loss was 2.351704, best 2.273388\n",
      "in attempt 75 the loss was 2.357916, best 2.273388\n",
      "in attempt 76 the loss was 2.347424, best 2.273388\n",
      "in attempt 77 the loss was 2.343649, best 2.273388\n",
      "in attempt 78 the loss was 2.347102, best 2.273388\n",
      "in attempt 79 the loss was 2.389826, best 2.273388\n",
      "in attempt 80 the loss was 2.339360, best 2.273388\n",
      "in attempt 81 the loss was 2.361416, best 2.273388\n",
      "in attempt 82 the loss was 2.372156, best 2.273388\n",
      "in attempt 83 the loss was 2.323654, best 2.273388\n",
      "in attempt 84 the loss was 2.366416, best 2.273388\n",
      "in attempt 85 the loss was 2.338841, best 2.273388\n",
      "in attempt 86 the loss was 2.377107, best 2.273388\n",
      "in attempt 87 the loss was 2.304310, best 2.273388\n",
      "in attempt 88 the loss was 2.342206, best 2.273388\n",
      "in attempt 89 the loss was 2.366219, best 2.273388\n",
      "in attempt 90 the loss was 2.314023, best 2.273388\n",
      "in attempt 91 the loss was 2.351125, best 2.273388\n",
      "in attempt 92 the loss was 2.410255, best 2.273388\n",
      "in attempt 93 the loss was 2.330603, best 2.273388\n",
      "in attempt 94 the loss was 2.387749, best 2.273388\n",
      "in attempt 95 the loss was 2.407619, best 2.273388\n",
      "in attempt 96 the loss was 2.406550, best 2.273388\n",
      "in attempt 97 the loss was 2.326401, best 2.273388\n",
      "in attempt 98 the loss was 2.319783, best 2.273388\n",
      "in attempt 99 the loss was 2.348627, best 2.273388\n"
     ]
    }
   ],
   "source": [
    "bestloss = float('inf')\n",
    "for num in range(100):\n",
    "    W = np.random.randn(3073, 10) * 0.0001\n",
    "    loss, _ = softmax_loss_naive(W, X_dev, y_dev, 0.0)\n",
    "    if (loss < bestloss):\n",
    "        bestloss = loss\n",
    "        bestW = W\n",
    "    print('in attempt %d the loss was %f, best %f' % (num, loss, bestloss))"
   ]
  },
  {
   "cell_type": "code",
   "execution_count": 35,
   "metadata": {},
   "outputs": [
    {
     "name": "stdout",
     "output_type": "stream",
     "text": [
      "Accuracy on train set 0.148020\n",
      "Accuracy on test set 0.141000\n"
     ]
    }
   ],
   "source": [
    "# How bestW perform on trainset\n",
    "scores = X_train.dot(bestW)\n",
    "y_pred = np.argmax(scores, axis=1)\n",
    "print('Accuracy on train set %f' % np.mean(y_pred == y_train))\n",
    "\n",
    "# evaluate performance of test set\n",
    "scores = X_test.dot(bestW)\n",
    "y_pred = np.argmax(scores, axis=1)\n",
    "print('Accuracy on test set %f' % np.mean(y_pred == y_test))"
   ]
  },
  {
   "cell_type": "markdown",
   "metadata": {},
   "source": [
    "Compare the performance when using random search with *regression classifier* and *softmax classifier*. You can see how much useful the softmax classifier is."
   ]
  },
  {
   "cell_type": "markdown",
   "metadata": {},
   "source": [
    "## Stochastic Gradient descent\n",
    "Even though it is possible to achieve closed-form solution with softmax classifier, it would be more complicated. In fact, we could achieve very good results with gradient descent approach. Additionally, in case of very large dataset, it is impossible to load the whole dataset into the memory. Gradient descent can help to optimize the loss function in batch. \n",
    "\n",
    "$$\\mathbf{W}^{t+1}=\\mathbf{W}^{t}−\\alpha \\frac{\\partial\\mathcal{L(\\mathbf{x};\\mathbf{W}^{t})}}{\\partial\\mathbf{W}^{t}}$$\n",
    "\n",
    "Where $\\alpha$ is the learning rate, $\\mathcal{L}$ is a loss function, and $\\mathbf{x}$ is a batch of training dataset."
   ]
  },
  {
   "cell_type": "code",
   "execution_count": 80,
   "metadata": {},
   "outputs": [
    {
     "name": "stdout",
     "output_type": "stream",
     "text": [
      "numerical: -0.571653 analytic: -0.571653, relative error: 4.658025e-08\n",
      "numerical: 0.033964 analytic: 0.033964, relative error: 7.448476e-07\n",
      "numerical: 3.684926 analytic: 3.684926, relative error: 7.754529e-09\n",
      "numerical: -0.594415 analytic: -0.594415, relative error: 7.901296e-08\n",
      "numerical: 1.270820 analytic: 1.270820, relative error: 3.763492e-08\n",
      "numerical: 2.415086 analytic: 2.415086, relative error: 2.114893e-09\n",
      "numerical: -0.036710 analytic: -0.036710, relative error: 7.437271e-07\n",
      "numerical: -1.000976 analytic: -1.000976, relative error: 6.471207e-09\n",
      "numerical: -2.550163 analytic: -2.550163, relative error: 7.679266e-09\n",
      "numerical: 0.834135 analytic: 0.834135, relative error: 2.209314e-08\n",
      "numerical: -3.891992 analytic: -3.891992, relative error: 4.151193e-08\n",
      "numerical: -1.926980 analytic: -1.926980, relative error: 3.812835e-08\n",
      "numerical: 1.848484 analytic: 1.848484, relative error: 4.005554e-09\n",
      "numerical: -1.848996 analytic: -1.848996, relative error: 9.968898e-09\n",
      "numerical: 0.372362 analytic: 0.372361, relative error: 1.337797e-07\n",
      "numerical: -0.225779 analytic: -0.225779, relative error: 1.825098e-07\n",
      "numerical: -2.148573 analytic: -2.148573, relative error: 1.546321e-08\n",
      "numerical: 1.772475 analytic: 1.772475, relative error: 1.363969e-08\n",
      "numerical: -0.217983 analytic: -0.217983, relative error: 1.138550e-07\n",
      "numerical: -0.506743 analytic: -0.506743, relative error: 1.009215e-07\n"
     ]
    }
   ],
   "source": [
    "# Complete the implementation of softmax_loss_naive and implement a (naive)\n",
    "# version of the gradient that uses nested loops.\n",
    "loss, grad = softmax_loss_naive(W, X_dev, y_dev, 0.0)\n",
    "\n",
    "# Use numeric gradient checking as a debugging tool.\n",
    "# The numeric gradient should be close to the analytic gradient.\n",
    "from gradient_check import grad_check_sparse\n",
    "f = lambda w: softmax_loss_naive(w, X_dev, y_dev, 0.0)[0]\n",
    "grad_numerical = grad_check_sparse(f, W, grad, 10)\n",
    "\n",
    "# gradient check with regularization\n",
    "loss, grad = softmax_loss_naive(W, X_dev, y_dev, 1e2)\n",
    "f = lambda w: softmax_loss_naive(w, X_dev, y_dev, 1e2)[0]\n",
    "grad_numerical = grad_check_sparse(f, W, grad, 10)"
   ]
  },
  {
   "cell_type": "code",
   "execution_count": 81,
   "metadata": {},
   "outputs": [
    {
     "name": "stdout",
     "output_type": "stream",
     "text": [
      "naive loss: 2.348627e+00 computed in 0.097087s\n",
      "vectorized loss: 2.348627e+00 computed in 0.002260s\n",
      "Loss difference: 0.000000\n",
      "Gradient difference: 0.000000\n"
     ]
    }
   ],
   "source": [
    "# Now that we have a naive implementation of the softmax loss function and its gradient,\n",
    "# implement a vectorized version in softmax_loss_vectorized.\n",
    "# The two versions should compute the same results, but the vectorized version should be\n",
    "# much faster.\n",
    "tic = time.time()\n",
    "loss_naive, grad_naive = softmax_loss_naive(W, X_dev, y_dev, 0.00001)\n",
    "toc = time.time()\n",
    "print('naive loss: %e computed in %fs' % (loss_naive, toc - tic))\n",
    "\n",
    "from classifiers.softmax import softmax_loss_vectorized\n",
    "tic = time.time()\n",
    "loss_vectorized, grad_vectorized = softmax_loss_vectorized(W, X_dev, y_dev, 0.00001)\n",
    "toc = time.time()\n",
    "print('vectorized loss: %e computed in %fs' % (loss_vectorized, toc - tic))\n",
    "\n",
    "# We use the Frobenius norm to compare the two versions\n",
    "# of the gradient.\n",
    "grad_difference = np.linalg.norm(grad_naive - grad_vectorized, ord='fro')\n",
    "print('Loss difference: %f' % np.abs(loss_naive - loss_vectorized))\n",
    "print('Gradient difference: %f' % grad_difference)"
   ]
  },
  {
   "cell_type": "code",
   "execution_count": 90,
   "metadata": {},
   "outputs": [
    {
     "name": "stdout",
     "output_type": "stream",
     "text": [
      "iteration 0 / 1500: loss 15.893068\n",
      "iteration 100 / 1500: loss 13.388226\n",
      "iteration 200 / 1500: loss 12.335209\n",
      "iteration 300 / 1500: loss 12.197800\n",
      "iteration 400 / 1500: loss 11.777836\n",
      "iteration 500 / 1500: loss 12.157639\n",
      "iteration 600 / 1500: loss 11.564541\n",
      "iteration 700 / 1500: loss 11.535138\n",
      "iteration 800 / 1500: loss 11.097393\n",
      "iteration 900 / 1500: loss 11.189287\n",
      "iteration 1000 / 1500: loss 11.074490\n",
      "iteration 1100 / 1500: loss 10.986458\n",
      "iteration 1200 / 1500: loss 10.879305\n",
      "iteration 1300 / 1500: loss 10.741719\n",
      "iteration 1400 / 1500: loss 11.064311\n",
      "That took 3.545260s\n"
     ]
    }
   ],
   "source": [
    "from classifiers.linear_classifier import *\n",
    "\n",
    "classifier = Softmax()\n",
    "tic = time.time()\n",
    "loss_hist = classifier.train(X_train, y_train, learning_rate=1e-7, reg=5e1,\n",
    "                                  num_iters=1500, verbose=True)\n",
    "toc = time.time()\n",
    "print('That took %fs' % (toc - tic))"
   ]
  },
  {
   "cell_type": "code",
   "execution_count": 91,
   "metadata": {},
   "outputs": [
    {
     "name": "stdout",
     "output_type": "stream",
     "text": [
      "training accuracy: 0.255776\n",
      "validation accuracy: 0.266000\n"
     ]
    }
   ],
   "source": [
    "# Write the Softmax.predict function and evaluate the performance on both the\n",
    "# training and validation set\n",
    "y_train_pred = classifier.predict(X_train)\n",
    "print('training accuracy: %f' % (np.mean(y_train == y_train_pred), ))\n",
    "y_val_pred = classifier.predict(X_val)\n",
    "print('validation accuracy: %f' % (np.mean(y_val == y_val_pred), ))"
   ]
  },
  {
   "cell_type": "code",
   "execution_count": 92,
   "metadata": {},
   "outputs": [
    {
     "data": {
      "image/png": "[encoded data removed]",
      "text/plain": [
       "<Figure size 720x576 with 1 Axes>"
      ]
     },
     "metadata": {
      "needs_background": "light"
     },
     "output_type": "display_data"
    }
   ],
   "source": [
    "# A useful debugging strategy is to plot the loss as a function of\n",
    "# iteration number:\n",
    "plt.plot(loss_hist)\n",
    "plt.xlabel('Iteration number')\n",
    "plt.ylabel('Loss value')\n",
    "plt.show()"
   ]
  },
  {
   "cell_type": "code",
   "execution_count": 93,
   "metadata": {},
   "outputs": [
    {
     "name": "stdout",
     "output_type": "stream",
     "text": [
      "softmax on raw pixels final test set accuracy: 24.80\n"
     ]
    }
   ],
   "source": [
    "# evaluate on test set\n",
    "# Evaluate the best softmax on test set\n",
    "y_test_pred = classifier.predict(X_test)\n",
    "test_accuracy = np.mean(y_test == y_test_pred)\n",
    "print('softmax on raw pixels final test set accuracy: %.2f' % (100*test_accuracy, ))"
   ]
  },
  {
   "cell_type": "code",
   "execution_count": null,
   "metadata": {},
   "outputs": [],
   "source": []
  }
 ],
 "metadata": {
  "anaconda-cloud": {},
  "kernelspec": {
   "display_name": "Python 3",
   "language": "python",
   "name": "python3"
  },
  "language_info": {
   "codemirror_mode": {
    "name": "ipython",
    "version": 3
   },
   "file_extension": ".py",
   "mimetype": "text/x-python",
   "name": "python",
   "nbconvert_exporter": "python",
   "pygments_lexer": "ipython3",
   "version": "3.7.6"
  }
 },
 "nbformat": 4,
 "nbformat_minor": 4
}
