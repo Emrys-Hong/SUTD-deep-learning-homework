{
 "cells": [
  {
   "cell_type": "code",
   "execution_count": 54,
   "metadata": {},
   "outputs": [],
   "source": [
    "import numpy as np\n",
    "from sklearn.model_selection import train_test_split\n",
    "from pathlib import Path\n",
    "from sklearn.model_selection import StratifiedShuffleSplit\n",
    "from sklearn.svm import SVC\n",
    "from sklearn.metrics import accuracy_score\n",
    "from sklearn.metrics import balanced_accuracy_score"
   ]
  },
  {
   "cell_type": "code",
   "execution_count": 2,
   "metadata": {},
   "outputs": [],
   "source": [
    "main_folder = Path('imageclef2011_feats/')\n",
    "with open('trainset_gt_annotations.txt') as f:\n",
    "    y_all = []\n",
    "    x_all = []\n",
    "    for l in f.readlines():\n",
    "        y_all.append([int(o) for o in l.split()[1:]])\n",
    "        filepath = str(main_folder/l.split()[0]).split('.')[0] + '.jpg_ft.npy'\n",
    "        x_all.append(np.load(filepath))\n",
    "\n",
    "with open('concepts_2011.txt') as f:\n",
    "    labels_names = [l.split()[1] for l in f.readlines()[1:]]"
   ]
  },
  {
   "cell_type": "markdown",
   "metadata": {},
   "source": [
    "## generate dataset"
   ]
  },
  {
   "cell_type": "code",
   "execution_count": 3,
   "metadata": {},
   "outputs": [
    {
     "data": {
      "text/plain": [
       "(9, 10, 11, 12)"
      ]
     },
     "execution_count": 3,
     "metadata": {},
     "output_type": "execute_result"
    }
   ],
   "source": [
    "labels_names.index('Spring'), labels_names.index('Summer'), labels_names.index('Autumn'), labels_names.index('Winter')"
   ]
  },
  {
   "cell_type": "code",
   "execution_count": 4,
   "metadata": {},
   "outputs": [],
   "source": [
    "X_spring, X_summer, X_autumn, X_winter = [], [], [], []\n",
    "for xo, yo in zip(x_all, y_all):\n",
    "    if yo[9] == 1 or yo[10] == 1 or yo[11] == 1 or yo[12] == 1:\n",
    "        if yo[9] == 1:\n",
    "            X_spring.append(xo)\n",
    "        elif yo[10] == 1:\n",
    "            X_summer.append(xo)\n",
    "        elif yo[11] == 1:\n",
    "            X_autumn.append(xo)\n",
    "        else: \n",
    "            X_winter.append(xo)"
   ]
  },
  {
   "cell_type": "markdown",
   "metadata": {},
   "source": [
    "## First test out spring"
   ]
  },
  {
   "cell_type": "code",
   "execution_count": 5,
   "metadata": {},
   "outputs": [],
   "source": [
    "train_size = 0.6\n",
    "val_size = 0.15\n",
    "test_size = 0.25\n",
    "# spring\n",
    "spring_train_x, spring_test_x = np.split(X_spring, [int((train_size+val_size)*len(X_spring))])\n",
    "spring_train_x, spring_val_x = np.split(spring_train_x, [int(train_size*len(X_spring))])\n",
    "# Summner\n",
    "summer_train_x, summer_test_x = np.split(X_summer, [int((train_size+val_size)*len(X_summer))])\n",
    "summer_train_x, summer_val_x = np.split(summer_train_x, [int(train_size*len(X_summer))])\n",
    "# Autumn\n",
    "autumn_train_x, autumn_test_x = np.split(X_autumn, [int((train_size+val_size)*len(X_autumn))])\n",
    "autumn_train_x, autumn_val_x = np.split(autumn_train_x, [int(train_size*len(X_autumn))])\n",
    "# Winter\n",
    "winter_train_x, winter_test_x = np.split(X_winter, [int((train_size+val_size)*len(X_winter))])\n",
    "winter_train_x, winter_val_x = np.split(winter_train_x, [int(train_size*len(X_winter))])\n"
   ]
  },
  {
   "cell_type": "code",
   "execution_count": 47,
   "metadata": {},
   "outputs": [],
   "source": [
    "train_x = np.concatenate([spring_train_x, summer_train_x, autumn_train_x, winter_train_x])\n",
    "spring_train_y = len(spring_train_x)*[1] + len(summer_train_x)*[0] + len(autumn_train_x)*[0] + len(winter_train_x)*[0]\n",
    "summer_train_y = len(spring_train_x)*[0] + len(summer_train_x)*[1] + len(autumn_train_x)*[0] + len(winter_train_x)*[0]\n",
    "autumn_train_y = len(spring_train_x)*[0] + len(summer_train_x)*[0] + len(autumn_train_x)*[1] + len(winter_train_x)*[0]\n",
    "winter_train_y = len(spring_train_x)*[0] + len(summer_train_x)*[0] + len(autumn_train_x)*[0] + len(winter_train_x)*[1]\n",
    "\n",
    "val_x = np.concatenate([spring_val_x, summer_val_x, autumn_val_x, winter_val_x])\n",
    "val_y = len(spring_val_x)*[0] + len(summer_val_x)*[1] + len(autumn_val_x)*[2] + len(winter_val_x)*[3]\n",
    "\n",
    "test_x = np.concatenate([spring_test_x, summer_test_x, autumn_test_x, winter_test_x])\n",
    "test_y = len(spring_test_x)*[0] + len(summer_test_x)*[1] + len(autumn_test_x)*[2] + len(winter_test_x)*[3]"
   ]
  },
  {
   "cell_type": "markdown",
   "metadata": {},
   "source": [
    "## Why split classwise\n",
    "Split classwise means split the class proportionally between training and test set.\n",
    "Split randomly is just randomly split the dataset with no constraints so it cannot make sure that the proportions of the class in training, validation and test set is the same.\n",
    "You asked us to split classwise so that training set is a good representation of the test set."
   ]
  },
  {
   "cell_type": "markdown",
   "metadata": {},
   "source": [
    "## using sklearn.svm.SVC using 'RBF' kernel (default)"
   ]
  },
  {
   "cell_type": "code",
   "execution_count": 57,
   "metadata": {},
   "outputs": [],
   "source": [
    "Cs = [1e-2, 1e-1, 1e-1**0.5, 1, 1e1**0.5, 1e1, 1e2**0.5]\n",
    "balanced_accs = []"
   ]
  },
  {
   "cell_type": "code",
   "execution_count": 58,
   "metadata": {},
   "outputs": [
    {
     "name": "stderr",
     "output_type": "stream",
     "text": [
      "/Users/emrys/miniconda3/lib/python3.7/site-packages/sklearn/svm/base.py:193: FutureWarning: The default value of gamma will change from 'auto' to 'scale' in version 0.22 to account better for unscaled features. Set gamma explicitly to 'auto' or 'scale' to avoid this warning.\n",
      "  \"avoid this warning.\", FutureWarning)\n",
      "/Users/emrys/miniconda3/lib/python3.7/site-packages/sklearn/svm/base.py:193: FutureWarning: The default value of gamma will change from 'auto' to 'scale' in version 0.22 to account better for unscaled features. Set gamma explicitly to 'auto' or 'scale' to avoid this warning.\n",
      "  \"avoid this warning.\", FutureWarning)\n",
      "/Users/emrys/miniconda3/lib/python3.7/site-packages/sklearn/svm/base.py:193: FutureWarning: The default value of gamma will change from 'auto' to 'scale' in version 0.22 to account better for unscaled features. Set gamma explicitly to 'auto' or 'scale' to avoid this warning.\n",
      "  \"avoid this warning.\", FutureWarning)\n",
      "/Users/emrys/miniconda3/lib/python3.7/site-packages/sklearn/svm/base.py:193: FutureWarning: The default value of gamma will change from 'auto' to 'scale' in version 0.22 to account better for unscaled features. Set gamma explicitly to 'auto' or 'scale' to avoid this warning.\n",
      "  \"avoid this warning.\", FutureWarning)\n",
      "/Users/emrys/miniconda3/lib/python3.7/site-packages/sklearn/svm/base.py:193: FutureWarning: The default value of gamma will change from 'auto' to 'scale' in version 0.22 to account better for unscaled features. Set gamma explicitly to 'auto' or 'scale' to avoid this warning.\n",
      "  \"avoid this warning.\", FutureWarning)\n",
      "/Users/emrys/miniconda3/lib/python3.7/site-packages/sklearn/svm/base.py:193: FutureWarning: The default value of gamma will change from 'auto' to 'scale' in version 0.22 to account better for unscaled features. Set gamma explicitly to 'auto' or 'scale' to avoid this warning.\n",
      "  \"avoid this warning.\", FutureWarning)\n",
      "/Users/emrys/miniconda3/lib/python3.7/site-packages/sklearn/svm/base.py:193: FutureWarning: The default value of gamma will change from 'auto' to 'scale' in version 0.22 to account better for unscaled features. Set gamma explicitly to 'auto' or 'scale' to avoid this warning.\n",
      "  \"avoid this warning.\", FutureWarning)\n",
      "/Users/emrys/miniconda3/lib/python3.7/site-packages/sklearn/svm/base.py:193: FutureWarning: The default value of gamma will change from 'auto' to 'scale' in version 0.22 to account better for unscaled features. Set gamma explicitly to 'auto' or 'scale' to avoid this warning.\n",
      "  \"avoid this warning.\", FutureWarning)\n",
      "/Users/emrys/miniconda3/lib/python3.7/site-packages/sklearn/svm/base.py:193: FutureWarning: The default value of gamma will change from 'auto' to 'scale' in version 0.22 to account better for unscaled features. Set gamma explicitly to 'auto' or 'scale' to avoid this warning.\n",
      "  \"avoid this warning.\", FutureWarning)\n",
      "/Users/emrys/miniconda3/lib/python3.7/site-packages/sklearn/svm/base.py:193: FutureWarning: The default value of gamma will change from 'auto' to 'scale' in version 0.22 to account better for unscaled features. Set gamma explicitly to 'auto' or 'scale' to avoid this warning.\n",
      "  \"avoid this warning.\", FutureWarning)\n",
      "/Users/emrys/miniconda3/lib/python3.7/site-packages/sklearn/svm/base.py:193: FutureWarning: The default value of gamma will change from 'auto' to 'scale' in version 0.22 to account better for unscaled features. Set gamma explicitly to 'auto' or 'scale' to avoid this warning.\n",
      "  \"avoid this warning.\", FutureWarning)\n",
      "/Users/emrys/miniconda3/lib/python3.7/site-packages/sklearn/svm/base.py:193: FutureWarning: The default value of gamma will change from 'auto' to 'scale' in version 0.22 to account better for unscaled features. Set gamma explicitly to 'auto' or 'scale' to avoid this warning.\n",
      "  \"avoid this warning.\", FutureWarning)\n",
      "/Users/emrys/miniconda3/lib/python3.7/site-packages/sklearn/svm/base.py:193: FutureWarning: The default value of gamma will change from 'auto' to 'scale' in version 0.22 to account better for unscaled features. Set gamma explicitly to 'auto' or 'scale' to avoid this warning.\n",
      "  \"avoid this warning.\", FutureWarning)\n",
      "/Users/emrys/miniconda3/lib/python3.7/site-packages/sklearn/svm/base.py:193: FutureWarning: The default value of gamma will change from 'auto' to 'scale' in version 0.22 to account better for unscaled features. Set gamma explicitly to 'auto' or 'scale' to avoid this warning.\n",
      "  \"avoid this warning.\", FutureWarning)\n",
      "/Users/emrys/miniconda3/lib/python3.7/site-packages/sklearn/svm/base.py:193: FutureWarning: The default value of gamma will change from 'auto' to 'scale' in version 0.22 to account better for unscaled features. Set gamma explicitly to 'auto' or 'scale' to avoid this warning.\n",
      "  \"avoid this warning.\", FutureWarning)\n",
      "/Users/emrys/miniconda3/lib/python3.7/site-packages/sklearn/svm/base.py:193: FutureWarning: The default value of gamma will change from 'auto' to 'scale' in version 0.22 to account better for unscaled features. Set gamma explicitly to 'auto' or 'scale' to avoid this warning.\n",
      "  \"avoid this warning.\", FutureWarning)\n",
      "/Users/emrys/miniconda3/lib/python3.7/site-packages/sklearn/svm/base.py:193: FutureWarning: The default value of gamma will change from 'auto' to 'scale' in version 0.22 to account better for unscaled features. Set gamma explicitly to 'auto' or 'scale' to avoid this warning.\n",
      "  \"avoid this warning.\", FutureWarning)\n",
      "/Users/emrys/miniconda3/lib/python3.7/site-packages/sklearn/svm/base.py:193: FutureWarning: The default value of gamma will change from 'auto' to 'scale' in version 0.22 to account better for unscaled features. Set gamma explicitly to 'auto' or 'scale' to avoid this warning.\n",
      "  \"avoid this warning.\", FutureWarning)\n",
      "/Users/emrys/miniconda3/lib/python3.7/site-packages/sklearn/svm/base.py:193: FutureWarning: The default value of gamma will change from 'auto' to 'scale' in version 0.22 to account better for unscaled features. Set gamma explicitly to 'auto' or 'scale' to avoid this warning.\n",
      "  \"avoid this warning.\", FutureWarning)\n",
      "/Users/emrys/miniconda3/lib/python3.7/site-packages/sklearn/svm/base.py:193: FutureWarning: The default value of gamma will change from 'auto' to 'scale' in version 0.22 to account better for unscaled features. Set gamma explicitly to 'auto' or 'scale' to avoid this warning.\n",
      "  \"avoid this warning.\", FutureWarning)\n",
      "/Users/emrys/miniconda3/lib/python3.7/site-packages/sklearn/svm/base.py:193: FutureWarning: The default value of gamma will change from 'auto' to 'scale' in version 0.22 to account better for unscaled features. Set gamma explicitly to 'auto' or 'scale' to avoid this warning.\n",
      "  \"avoid this warning.\", FutureWarning)\n",
      "/Users/emrys/miniconda3/lib/python3.7/site-packages/sklearn/svm/base.py:193: FutureWarning: The default value of gamma will change from 'auto' to 'scale' in version 0.22 to account better for unscaled features. Set gamma explicitly to 'auto' or 'scale' to avoid this warning.\n",
      "  \"avoid this warning.\", FutureWarning)\n",
      "/Users/emrys/miniconda3/lib/python3.7/site-packages/sklearn/svm/base.py:193: FutureWarning: The default value of gamma will change from 'auto' to 'scale' in version 0.22 to account better for unscaled features. Set gamma explicitly to 'auto' or 'scale' to avoid this warning.\n",
      "  \"avoid this warning.\", FutureWarning)\n",
      "/Users/emrys/miniconda3/lib/python3.7/site-packages/sklearn/svm/base.py:193: FutureWarning: The default value of gamma will change from 'auto' to 'scale' in version 0.22 to account better for unscaled features. Set gamma explicitly to 'auto' or 'scale' to avoid this warning.\n",
      "  \"avoid this warning.\", FutureWarning)\n",
      "/Users/emrys/miniconda3/lib/python3.7/site-packages/sklearn/svm/base.py:193: FutureWarning: The default value of gamma will change from 'auto' to 'scale' in version 0.22 to account better for unscaled features. Set gamma explicitly to 'auto' or 'scale' to avoid this warning.\n",
      "  \"avoid this warning.\", FutureWarning)\n",
      "/Users/emrys/miniconda3/lib/python3.7/site-packages/sklearn/svm/base.py:193: FutureWarning: The default value of gamma will change from 'auto' to 'scale' in version 0.22 to account better for unscaled features. Set gamma explicitly to 'auto' or 'scale' to avoid this warning.\n",
      "  \"avoid this warning.\", FutureWarning)\n"
     ]
    },
    {
     "name": "stderr",
     "output_type": "stream",
     "text": [
      "/Users/emrys/miniconda3/lib/python3.7/site-packages/sklearn/svm/base.py:193: FutureWarning: The default value of gamma will change from 'auto' to 'scale' in version 0.22 to account better for unscaled features. Set gamma explicitly to 'auto' or 'scale' to avoid this warning.\n",
      "  \"avoid this warning.\", FutureWarning)\n",
      "/Users/emrys/miniconda3/lib/python3.7/site-packages/sklearn/svm/base.py:193: FutureWarning: The default value of gamma will change from 'auto' to 'scale' in version 0.22 to account better for unscaled features. Set gamma explicitly to 'auto' or 'scale' to avoid this warning.\n",
      "  \"avoid this warning.\", FutureWarning)\n"
     ]
    }
   ],
   "source": [
    "for c in Cs: # Training\n",
    "    clf_spring = SVC(C=c, probability=True)\n",
    "    clf_spring.fit(train_x, spring_train_y)\n",
    "    clf_summer = SVC(C=c, probability=True)\n",
    "    clf_summer.fit(train_x, summer_train_y)\n",
    "    clf_autumn = SVC(C=c, probability=True)\n",
    "    clf_autumn.fit(train_x, autumn_train_y)\n",
    "    clf_winter = SVC(C=c, probability=True)\n",
    "    clf_winter.fit(train_x, winter_train_y)\n",
    "    # val\n",
    "    val_spring = clf_spring.predict_proba(val_x)[:, 1]\n",
    "    val_summer = clf_summer.predict_proba(val_x)[:, 1]\n",
    "    val_autumn = clf_autumn.predict_proba(val_x)[:, 1]\n",
    "    val_winter = clf_winter.predict_proba(val_x)[:, 1]\n",
    "    val_prob = np.vstack([val_spring, val_summer, val_autumn, val_winter]).T\n",
    "    val_predict = val_prob.argmax(axis=1)\n",
    "    acc = accuracy_score(val, val_y)\n",
    "    balanced_acc = balanced_accuracy_score(val, val_y)\n",
    "    balanced_accs.append(balanced_acc)"
   ]
  },
  {
   "cell_type": "code",
   "execution_count": 59,
   "metadata": {},
   "outputs": [
    {
     "data": {
      "text/plain": [
       "[0.7179166666666666,\n",
       " 0.7179166666666666,\n",
       " 0.7179166666666666,\n",
       " 0.7179166666666666,\n",
       " 0.7179166666666666,\n",
       " 0.7179166666666666,\n",
       " 0.7179166666666666]"
      ]
     },
     "execution_count": 59,
     "metadata": {},
     "output_type": "execute_result"
    }
   ],
   "source": [
    "balanced_accs"
   ]
  },
  {
   "cell_type": "code",
   "execution_count": 60,
   "metadata": {},
   "outputs": [],
   "source": [
    "# test on the test set"
   ]
  },
  {
   "cell_type": "code",
   "execution_count": 63,
   "metadata": {},
   "outputs": [],
   "source": [
    "train_x = np.concatenate([train_x, val_x])\n",
    "spring_val_y = len(spring_val_x)*[1] + len(summer_val_x)*[0] + len(autumn_val_x)*[0] + len(winter_val_x)*[0]\n",
    "summer_val_y = len(spring_val_x)*[0] + len(summer_val_x)*[1] + len(autumn_val_x)*[0] + len(winter_val_x)*[0]\n",
    "autumn_val_y = len(spring_val_x)*[0] + len(summer_val_x)*[0] + len(autumn_val_x)*[1] + len(winter_val_x)*[0]\n",
    "winter_val_y = len(spring_val_x)*[0] + len(summer_val_x)*[0] + len(autumn_val_x)*[0] + len(winter_val_x)*[1]\n",
    "spring_train_y = np.concatenate([spring_train_y, spring_val_y])\n",
    "summer_train_y = np.concatenate([summer_train_y, summer_val_y])\n",
    "autumn_train_y = np.concatenate([autumn_train_y, autumn_val_y])\n",
    "winter_train_y = np.concatenate([winter_train_y, winter_val_y])"
   ]
  },
  {
   "cell_type": "code",
   "execution_count": 66,
   "metadata": {},
   "outputs": [
    {
     "name": "stderr",
     "output_type": "stream",
     "text": [
      "/Users/emrys/miniconda3/lib/python3.7/site-packages/sklearn/svm/base.py:193: FutureWarning: The default value of gamma will change from 'auto' to 'scale' in version 0.22 to account better for unscaled features. Set gamma explicitly to 'auto' or 'scale' to avoid this warning.\n",
      "  \"avoid this warning.\", FutureWarning)\n",
      "/Users/emrys/miniconda3/lib/python3.7/site-packages/sklearn/svm/base.py:193: FutureWarning: The default value of gamma will change from 'auto' to 'scale' in version 0.22 to account better for unscaled features. Set gamma explicitly to 'auto' or 'scale' to avoid this warning.\n",
      "  \"avoid this warning.\", FutureWarning)\n",
      "/Users/emrys/miniconda3/lib/python3.7/site-packages/sklearn/svm/base.py:193: FutureWarning: The default value of gamma will change from 'auto' to 'scale' in version 0.22 to account better for unscaled features. Set gamma explicitly to 'auto' or 'scale' to avoid this warning.\n",
      "  \"avoid this warning.\", FutureWarning)\n",
      "/Users/emrys/miniconda3/lib/python3.7/site-packages/sklearn/svm/base.py:193: FutureWarning: The default value of gamma will change from 'auto' to 'scale' in version 0.22 to account better for unscaled features. Set gamma explicitly to 'auto' or 'scale' to avoid this warning.\n",
      "  \"avoid this warning.\", FutureWarning)\n"
     ]
    }
   ],
   "source": [
    "c = 0.1\n",
    "\n",
    "clf_spring = SVC(C=c, probability=True)\n",
    "clf_spring.fit(train_x, spring_train_y)\n",
    "clf_summer = SVC(C=c, probability=True)\n",
    "clf_summer.fit(train_x, summer_train_y)\n",
    "clf_autumn = SVC(C=c, probability=True)\n",
    "clf_autumn.fit(train_x, autumn_train_y)\n",
    "clf_winter = SVC(C=c, probability=True)\n",
    "clf_winter.fit(train_x, winter_train_y)\n",
    "# val\n",
    "val_spring = clf_spring.predict_proba(test_x)[:, 1]\n",
    "val_summer = clf_summer.predict_proba(test_x)[:, 1]\n",
    "val_autumn = clf_autumn.predict_proba(test_x)[:, 1]\n",
    "val_winter = clf_winter.predict_proba(test_x)[:, 1]\n",
    "val_prob = np.vstack([val_spring, val_summer, val_autumn, val_winter]).T\n",
    "val_predict = val_prob.argmax(axis=1)\n",
    "acc = accuracy_score(val, val_y)\n",
    "balanced_acc = balanced_accuracy_score(val, val_y)\n",
    "balanced_accs.append(balanced_acc)"
   ]
  }
 ],
 "metadata": {
  "kernelspec": {
   "display_name": "Python 3",
   "language": "python",
   "name": "python3"
  },
  "language_info": {
   "codemirror_mode": {
    "name": "ipython",
    "version": 3
   },
   "file_extension": ".py",
   "mimetype": "text/x-python",
   "name": "python",
   "nbconvert_exporter": "python",
   "pygments_lexer": "ipython3",
   "version": "3.7.3"
  }
 },
 "nbformat": 4,
 "nbformat_minor": 2
}
