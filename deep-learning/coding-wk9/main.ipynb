{
 "cells": [
  {
   "cell_type": "code",
   "execution_count": 1,
   "metadata": {},
   "outputs": [],
   "source": [
    "from basic_imports import *\n",
    "from torch_imports import *\n",
    "import string\n",
    "from torch.nn.utils.rnn import pack_padded_sequence, pad_packed_sequence"
   ]
  },
  {
   "cell_type": "code",
   "execution_count": 2,
   "metadata": {},
   "outputs": [],
   "source": [
    "# data = pd.read_csv('data_raw.csv')\n",
    "# data_f = pd.read_csv('data_filtered.csv', encoding='latin1')"
   ]
  },
  {
   "cell_type": "code",
   "execution_count": 3,
   "metadata": {},
   "outputs": [],
   "source": [
    "# all_letters = string.ascii_letters + \"0123456789 .,:!?'[]()/+-=\"\n",
    "# def get_data():\n",
    "#     category_lines = {}\n",
    "#     all_categories = ['st']\n",
    "#     category_lines['st']=[]\n",
    "#     filterwords=['NEXTEPISODE']\n",
    "#     with open('./data_filtered.csv', newline='') as csvfile:\n",
    "#         reader = csv.reader(csvfile, delimiter=',', quotechar='\"')\n",
    "#         for row in reader:\n",
    "#             for el in row:\n",
    "#                 if (el not in filterwords) and (len(el)>1):\n",
    "# #                     print(el)\n",
    "#                     v=el.strip().replace(';','').replace('\\\"','')\n",
    "#                     category_lines['st'].append(v)\n",
    "#                     n_categories = len(all_categories)\n",
    "#     print(len(all_categories), len(category_lines['st']))\n",
    "#     print('done')\n",
    "#     return category_lines,all_categories"
   ]
  },
  {
   "cell_type": "code",
   "execution_count": 4,
   "metadata": {},
   "outputs": [],
   "source": [
    "class Config:\n",
    "    data_dir = 'data_raw.csv'\n",
    "    batch_size = 64\n",
    "    hidden_dim = 200\n",
    "    lr = 5e-3\n",
    "    device = 'cuda:2'\n",
    "    num_layers = 2\n",
    "    num_epochs = 3\n",
    "config = Config()"
   ]
  },
  {
   "cell_type": "markdown",
   "metadata": {},
   "source": [
    "## Clean data"
   ]
  },
  {
   "cell_type": "code",
   "execution_count": 5,
   "metadata": {},
   "outputs": [],
   "source": [
    "data = pd.read_csv(config.data_dir)"
   ]
  },
  {
   "cell_type": "code",
   "execution_count": 6,
   "metadata": {},
   "outputs": [],
   "source": [
    "data_clean = []\n",
    "\n",
    "for o in data.values:\n",
    "    for oo in o:\n",
    "        if type(oo) == float or oo == \"NEXTEPISODE\":\n",
    "            continue\n",
    "        if oo[0] == '(':\n",
    "            continue\n",
    "        data_clean.append(oo)"
   ]
  },
  {
   "cell_type": "code",
   "execution_count": 7,
   "metadata": {},
   "outputs": [],
   "source": [
    "idx2char = ['[PAD]', '[EOS]', '[SOS]', ]\n",
    "idx2char += list(set([character for line in data_clean for character in line]))\n",
    "char2idx = {o:i for i,o in enumerate(idx2char)}"
   ]
  },
  {
   "cell_type": "code",
   "execution_count": 8,
   "metadata": {},
   "outputs": [],
   "source": [
    "# class StarTrekDataset(Dataset):\n",
    "#     def __init__(self, data, vocab):\n",
    "#         self.data = data\n",
    "#         self.vocab = vocab\n",
    "    \n",
    "#     def __getitem__(self, i):\n",
    "#         return [self.vocab[o] for o in self.data[i]] + [self.vocab['[EOS]']]\n",
    "    \n",
    "#     def __len__(self):\n",
    "#         return len(self.data)\n",
    "\n",
    "class StarTrekDataset(Dataset):\n",
    "    def __init__(self, data, vocab, batch_len=17):\n",
    "        self.data = data\n",
    "        self.vocab = vocab\n",
    "        self.batch_len = batch_len\n",
    "        self.get_sequences()\n",
    "        \n",
    "    def __getitem__(self, i):\n",
    "        return self.data[i]\n",
    "    \n",
    "    def __len__(self):\n",
    "        return len(self.data)\n",
    "\n",
    "    def get_sequences(self):\n",
    "        seqs = [ ['[SOS]']+list(o)+['[EOS]'] for o in self.data]\n",
    "        seqs = [oo for o in seqs for oo in o]\n",
    "        sequences = []\n",
    "        for i in progress_bar(range(len(seqs)-self.batch_len)):\n",
    "            sequences.append([self.vocab[o] for o in seqs[i:i+self.batch_len]])\n",
    "        self.data = sequences"
   ]
  },
  {
   "cell_type": "code",
   "execution_count": 9,
   "metadata": {},
   "outputs": [],
   "source": [
    "data_train, data_val = np.split(data_clean, [int(len(data_clean)*0.8)])"
   ]
  },
  {
   "cell_type": "markdown",
   "metadata": {},
   "source": [
    "## Dataset and Dataloader"
   ]
  },
  {
   "cell_type": "code",
   "execution_count": 10,
   "metadata": {},
   "outputs": [
    {
     "data": {
      "text/html": [
       "\n",
       "    <div>\n",
       "        <style>\n",
       "            /* Turns off some styling */\n",
       "            progress {\n",
       "                /* gets rid of default border in Firefox and Opera. */\n",
       "                border: none;\n",
       "                /* Needs to be in here for Safari polyfill so background images work as expected. */\n",
       "                background-size: auto;\n",
       "            }\n",
       "            .progress-bar-interrupted, .progress-bar-interrupted::-webkit-progress-bar {\n",
       "                background: #F44336;\n",
       "            }\n",
       "        </style>\n",
       "      <progress value='1958115' class='' max='1958115', style='width:300px; height:20px; vertical-align: middle;'></progress>\n",
       "      100.00% [1958115/1958115 00:07<00:00]\n",
       "    </div>\n",
       "    "
      ],
      "text/plain": [
       "<IPython.core.display.HTML object>"
      ]
     },
     "metadata": {},
     "output_type": "display_data"
    },
    {
     "data": {
      "text/html": [
       "\n",
       "    <div>\n",
       "        <style>\n",
       "            /* Turns off some styling */\n",
       "            progress {\n",
       "                /* gets rid of default border in Firefox and Opera. */\n",
       "                border: none;\n",
       "                /* Needs to be in here for Safari polyfill so background images work as expected. */\n",
       "                background-size: auto;\n",
       "            }\n",
       "            .progress-bar-interrupted, .progress-bar-interrupted::-webkit-progress-bar {\n",
       "                background: #F44336;\n",
       "            }\n",
       "        </style>\n",
       "      <progress value='494877' class='' max='494877', style='width:300px; height:20px; vertical-align: middle;'></progress>\n",
       "      100.00% [494877/494877 00:01<00:00]\n",
       "    </div>\n",
       "    "
      ],
      "text/plain": [
       "<IPython.core.display.HTML object>"
      ]
     },
     "metadata": {},
     "output_type": "display_data"
    }
   ],
   "source": [
    "ds_trn = StarTrekDataset(data_train, char2idx)\n",
    "ds_val = StarTrekDataset(data_val, char2idx)"
   ]
  },
  {
   "cell_type": "code",
   "execution_count": 11,
   "metadata": {},
   "outputs": [],
   "source": [
    "# ''.join([idx2char[o] for o in ds_trn[5]])"
   ]
  },
  {
   "cell_type": "code",
   "execution_count": 12,
   "metadata": {},
   "outputs": [],
   "source": [
    "# def collate_fn(batch):\n",
    "#     lens = [len(o) for o in batch]\n",
    "#     max_len = max(lens)\n",
    "#     cum_len = np.cumsum(lens)\n",
    "#     seq_batch = np.zeros((cum_len[-1], max_len))\n",
    "#     seq_lens = np.zeros(cum_len[-1])\n",
    "#     y = np.zeros(cum_len[-1])\n",
    "    \n",
    "#     seq_batch[:,0] = np.ones(cum_len[-1]) * char2idx['[SOS]']\n",
    "    \n",
    "#     start_cum = 0\n",
    "#     for ui,utter in enumerate(batch):\n",
    "#         seq_lens[start_cum: cum_len[ui]] = np.arange(lens[ui]) + 1\n",
    "#         for i in range(1, lens[ui]+1):\n",
    "#             seq_batch[start_cum+i-1, 1:i] = np.array(utter[:i-1])\n",
    "#             y[start_cum+i-1] = utter[i-1]\n",
    "#         start_cum = cum_len[ui]\n",
    "    \n",
    "#     idx = np.argsort(seq_lens)[::-1]\n",
    "#     seq_batch, seq_lens, y = seq_batch[idx], seq_lens[idx], y[idx]\n",
    "#     return torch.Tensor(seq_batch).long(), torch.Tensor(seq_lens).long(), torch.Tensor(y).long()\n",
    "\n",
    "\n",
    "def collate_fn(batch):\n",
    "    batch = np.array(batch)\n",
    "    return torch.from_numpy(batch[:,:-1]).long(), torch.from_numpy(batch[:,1:]).long()"
   ]
  },
  {
   "cell_type": "code",
   "execution_count": 13,
   "metadata": {},
   "outputs": [],
   "source": [
    "dl_trn = DataLoader(ds_trn, batch_size=config.batch_size, collate_fn=collate_fn, shuffle=True)\n",
    "dl_val = DataLoader(ds_val, batch_size=config.batch_size, collate_fn=collate_fn, shuffle=False)"
   ]
  },
  {
   "cell_type": "code",
   "execution_count": 14,
   "metadata": {},
   "outputs": [],
   "source": [
    "# torch.set_printoptions(threshold=100)\n",
    "# torch.set_printoptions(edgeitems=100)"
   ]
  },
  {
   "cell_type": "markdown",
   "metadata": {},
   "source": [
    "## Model"
   ]
  },
  {
   "cell_type": "code",
   "execution_count": 20,
   "metadata": {},
   "outputs": [],
   "source": [
    "# class Model(nn.Module):\n",
    "#     def __init__(self, input_size, hidden_dim, vocab_size, layers):\n",
    "#         super().__init__()\n",
    "#         self.embedding = nn.Embedding(input_size, hidden_dim)\n",
    "#         self.lstm = nn.LSTM(hidden_dim, hidden_dim, layers, batch_first=True)\n",
    "#         self.fc = nn.Linear(hidden_dim, out_features=vocab_size)\n",
    "        \n",
    "#     def forward(self, inputs):\n",
    "#         x, seq_lens = inputs\n",
    "#         x = self.embedding(x)\n",
    "#         x_packed = pack_padded_sequence(x, seq_lens, batch_first=True)\n",
    "#         y_packed, (h, c) = self.lstm(x_packed)\n",
    "#         y, _ = pad_packed_sequence(y_packed, batch_first=True)\n",
    "#         y_last = torch.stack([y[i,seq_lens[i]-1,:] for i in range(len(x))])\n",
    "#         return y_last\n",
    "\n",
    "class Model(nn.Module):\n",
    "    def __init__(self, input_size, hidden_dim, vocab_size, layers, model_path='model.pt'):\n",
    "        super().__init__()\n",
    "        self.embedding = nn.Embedding(input_size, hidden_dim)\n",
    "        self.lstm = nn.LSTM(hidden_dim, hidden_dim, layers, batch_first=True)\n",
    "        self.fc = nn.Linear(hidden_dim, out_features=vocab_size)\n",
    "        self.dropout = nn.Dropout(p=0.1)\n",
    "        self.model_path = Path(model_path)\n",
    "        if self.model_path.exists():\n",
    "            self.load_state_dict(torch.load(self.model_path))\n",
    "    def forward(self, inputs, states=None):\n",
    "        x = inputs\n",
    "        x = self.embedding(x)\n",
    "        y, states = self.lstm(x, states)\n",
    "        y_last = self.dropout(y)\n",
    "        y_last = self.fc(y_last)\n",
    "        return y_last, states\n",
    "    \n",
    "model = Model(len(char2idx), config.hidden_dim, len(char2idx), config.num_layers)\n",
    "model = model.to(config.device)"
   ]
  },
  {
   "cell_type": "markdown",
   "metadata": {},
   "source": [
    "## Optimizer and Criterion"
   ]
  },
  {
   "cell_type": "code",
   "execution_count": 21,
   "metadata": {},
   "outputs": [],
   "source": [
    "criterion = nn.CrossEntropyLoss()"
   ]
  },
  {
   "cell_type": "markdown",
   "metadata": {},
   "source": [
    "## Train"
   ]
  },
  {
   "cell_type": "code",
   "execution_count": 22,
   "metadata": {},
   "outputs": [],
   "source": [
    "# class Generate_StarTrek_Dialogue:\n",
    "#     def __init__(self, vocab, model, )"
   ]
  },
  {
   "cell_type": "code",
   "execution_count": 27,
   "metadata": {},
   "outputs": [],
   "source": [
    "# def train(model, dl, optimizer, criterion, num_instances, train=True):\n",
    "#     if train:\n",
    "#         model.train()\n",
    "#     else:\n",
    "#         model.eval()\n",
    "#     loss, acc = 0, 0\n",
    "    \n",
    "#     for X, seq_lens, y in dl:\n",
    "#         X = X.to(config.device)\n",
    "#         seq_lens = seq_lens.to(config.device)\n",
    "#         labels = y.to(config.device)\n",
    "#         optimizer.zero_grad()\n",
    "        \n",
    "#         with torch.set_grad_enabled(train):\n",
    "#             outputs = model( (X, seq_lens) )\n",
    "#             preds = outputs.argmax(dim=1)\n",
    "#             l = criterion(outputs, labels)\n",
    "#             if train:\n",
    "#                 l.backward()\n",
    "#                 optimizer.step()\n",
    "#         loss += l.item()\n",
    "#         print(l.item())\n",
    "#         acc += torch.sum(preds == labels).item()\n",
    "#     loss /= len(dl)\n",
    "#     acc /= num_instances\n",
    "#     return loss, acc\n",
    "\n",
    "def train(model, dl, optimizer, criterion, num_instances, train=True):\n",
    "    if train:\n",
    "        model.train()\n",
    "    else:\n",
    "        model.eval()\n",
    "    loss, acc = 0, 0\n",
    "    \n",
    "    for ibatch, (X, y) in enumerate(dl):\n",
    "        X = X.to(config.device)\n",
    "        labels = y.to(config.device)\n",
    "        optimizer.zero_grad()\n",
    "        with torch.set_grad_enabled(train):\n",
    "            outputs, states = model( X )\n",
    "            outputs = outputs.reshape(-1, len(char2idx))\n",
    "            labels = labels.reshape(-1)\n",
    "            preds = outputs.argmax(dim=1)\n",
    "            l = criterion(outputs, labels)\n",
    "            if train:\n",
    "                l.backward()\n",
    "                optimizer.step()\n",
    "        loss += l.item()\n",
    "#         if ibatch % 1000 == 0: print(l.item())\n",
    "        acc += torch.sum(preds == labels).item()\n",
    "    loss /= len(dl)\n",
    "    acc /= num_instances\n",
    "    return loss, acc\n",
    "\n",
    "\n",
    "def fit(ds_trn, ds_val, dl_trn, dl_val, model, criterion):\n",
    "    optimizer = torch.optim.SGD(model.parameters(), lr=config.lr)\n",
    "    best_acc = 0\n",
    "    trn_losses, val_losses, val_accs = [], [], []\n",
    "    for epoch in range(config.num_epochs):\n",
    "        # train\n",
    "        trn_loss, trn_acc = train(model, dl_trn, optimizer, criterion, len(ds_trn), train=True)\n",
    "        # val\n",
    "        val_loss, val_acc = train(model, dl_val, optimizer, criterion, len(ds_val), train=False)\n",
    "        trn_losses.append(trn_loss)\n",
    "        val_losses.append(val_loss)\n",
    "        val_accs.append(val_acc)\n",
    "        if val_acc > best_acc:\n",
    "            best_acc = val_acc\n",
    "            best_weights = model.state_dict()\n",
    "            best_epoch = epoch\n",
    "        print(f'Epoch {epoch}/{config.num_epochs - 1}, trn_loss {trn_loss} val_loss {val_loss} val_acc {val_acc}')\n",
    "    return best_weights, best_epoch, [best_acc, trn_losses, val_losses, val_accs]"
   ]
  },
  {
   "cell_type": "code",
   "execution_count": 28,
   "metadata": {},
   "outputs": [
    {
     "name": "stdout",
     "output_type": "stream",
     "text": [
      "Epoch 0/2, trn_loss 2.356958245012336 val_loss 1.9785786063831743 val_acc 7.062528668739909\n",
      "Epoch 1/2, trn_loss 1.9111777491344473 val_loss 1.7980244421456373 val_acc 7.640407616438024\n",
      "Epoch 2/2, trn_loss 1.775312527735602 val_loss 1.7061766203356548 val_acc 7.980273886238399\n"
     ]
    }
   ],
   "source": [
    "best_weights, best_epoch, [best_acc, trn_losses, val_losses, val_accs] = fit(ds_trn, ds_val, dl_trn, dl_val, model, criterion)"
   ]
  },
  {
   "cell_type": "code",
   "execution_count": 29,
   "metadata": {},
   "outputs": [],
   "source": [
    "torch.save(best_weights, 'model.pt')\n",
    "# model.load_state_dict(torch.load('model.pt'))"
   ]
  },
  {
   "cell_type": "markdown",
   "metadata": {},
   "source": [
    "## Inference"
   ]
  },
  {
   "cell_type": "code",
   "execution_count": 32,
   "metadata": {},
   "outputs": [],
   "source": [
    "def sample(num):\n",
    "    states = None\n",
    "    x = torch.ones(num, 1).long().to(config.device)*char2idx['[SOS]']\n",
    "    history = [x]\n",
    "    for _ in range(40):\n",
    "        logits, states = model(history[-1], states)\n",
    "        predicts = torch.multinomial(torch.softmax(logits.squeeze(), dim=-1), num_samples=1)\n",
    "        history.append(predicts)\n",
    "    return torch.stack(history).squeeze().transpose(0, 1)"
   ]
  },
  {
   "cell_type": "markdown",
   "metadata": {},
   "source": [
    "## Performance"
   ]
  },
  {
   "cell_type": "code",
   "execution_count": 34,
   "metadata": {},
   "outputs": [],
   "source": [
    "s = sample(3).cpu().numpy()"
   ]
  },
  {
   "cell_type": "code",
   "execution_count": 38,
   "metadata": {},
   "outputs": [
    {
     "data": {
      "text/plain": [
       "'[SOS]SPOCK: Yes, sir?[EOS][SOS]KERT: Echise you.[EOS][SOS]VUU'"
      ]
     },
     "execution_count": 38,
     "metadata": {},
     "output_type": "execute_result"
    }
   ],
   "source": [
    "''.join([idx2char[o] for o in s[2]])"
   ]
  },
  {
   "cell_type": "code",
   "execution_count": 29,
   "metadata": {},
   "outputs": [
    {
     "data": {
      "image/png": "[encoded data removed]",
      "text/plain": [
       "<Figure size 432x288 with 1 Axes>"
      ]
     },
     "metadata": {
      "needs_background": "light"
     },
     "output_type": "display_data"
    }
   ],
   "source": [
    "plt.plot(np.arange(3), trn_losses, label='train_loss')\n",
    "plt.plot(np.arange(3), val_losses, label='val_loss')\n",
    "plt.legend()\n",
    "plt.savefig('losses.png')"
   ]
  },
  {
   "cell_type": "code",
   "execution_count": 31,
   "metadata": {},
   "outputs": [
    {
     "data": {
      "image/png": "[encoded data removed]",
      "text/plain": [
       "<Figure size 432x288 with 1 Axes>"
      ]
     },
     "metadata": {
      "needs_background": "light"
     },
     "output_type": "display_data"
    }
   ],
   "source": [
    "plt.plot(np.arange(3), val_accs, label='val_acc')\n",
    "plt.legend()\n",
    "plt.savefig('val_accuracy.png')"
   ]
  },
  {
   "cell_type": "code",
   "execution_count": null,
   "metadata": {},
   "outputs": [],
   "source": []
  }
 ],
 "metadata": {
  "kernelspec": {
   "display_name": "Python 3",
   "language": "python",
   "name": "python3"
  },
  "language_info": {
   "codemirror_mode": {
    "name": "ipython",
    "version": 3
   },
   "file_extension": ".py",
   "mimetype": "text/x-python",
   "name": "python",
   "nbconvert_exporter": "python",
   "pygments_lexer": "ipython3",
   "version": "3.8.1"
  }
 },
 "nbformat": 4,
 "nbformat_minor": 4
}
