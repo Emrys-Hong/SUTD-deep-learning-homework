{
 "cells": [
  {
   "cell_type": "code",
   "execution_count": 1,
   "metadata": {},
   "outputs": [],
   "source": [
    "from basic_imports import *\n",
    "from torch_imports import *\n",
    "import string\n",
    "from torch.nn.utils.rnn import pack_padded_sequence, pad_packed_sequence"
   ]
  },
  {
   "cell_type": "code",
   "execution_count": 2,
   "metadata": {},
   "outputs": [],
   "source": [
    "class Config:\n",
    "    data_dir = 'data_raw.csv'\n",
    "    batch_size = 64\n",
    "    hidden_dim = 200\n",
    "    lr = 1e-3\n",
    "    device = 'cuda:2'\n",
    "    num_layers = 2\n",
    "    trn_pct = 0.8\n",
    "    batch_len = 17\n"
   ]
  },
  {
   "cell_type": "markdown",
   "metadata": {},
   "source": [
    "## Clean data"
   ]
  },
  {
   "cell_type": "code",
   "execution_count": 3,
   "metadata": {},
   "outputs": [],
   "source": [
    "def get_data(config):\n",
    "    data = pd.read_csv(config.data_dir)\n",
    "    data_clean = []\n",
    "\n",
    "    for o in data.values:\n",
    "        for oo in o:\n",
    "            if type(oo) == float or oo == \"NEXTEPISODE\":\n",
    "                continue\n",
    "            if oo[0] == '(':\n",
    "                continue\n",
    "            data_clean.append(oo)\n",
    "    idx2char = ['[PAD]', '[EOS]', '[SOS]', ]\n",
    "    idx2char += list(set([character for line in data_clean for character in line]))\n",
    "    char2idx = {o:i for i,o in enumerate(idx2char)}\n",
    "    \n",
    "    data_train, data_val = np.split(data_clean, [int(len(data_clean)*config.trn_pct)])\n",
    "    return idx2char, char2idx, data_train, data_val"
   ]
  },
  {
   "cell_type": "markdown",
   "metadata": {},
   "source": [
    "## Dataset and Dataloader"
   ]
  },
  {
   "cell_type": "code",
   "execution_count": 4,
   "metadata": {},
   "outputs": [],
   "source": [
    "class StarTrekDataset(Dataset):\n",
    "    def __init__(self, config, idx2char, char2idx, data):\n",
    "        self.data = data\n",
    "        self.vocab = self.char2idx = char2idx\n",
    "        self.idx2char = idx2char\n",
    "        self.batch_len = config.batch_len\n",
    "        self.get_sequences()\n",
    "        \n",
    "    def __getitem__(self, i):\n",
    "        return self.data[i]\n",
    "    \n",
    "    def __len__(self):\n",
    "        return len(self.data)\n",
    "\n",
    "    def get_sequences(self):\n",
    "        print(\"process dataset\")\n",
    "        seqs = [ ['[SOS]']+list(o)+['[EOS]'] for o in self.data]\n",
    "        seqs = [oo for o in seqs for oo in o]\n",
    "        sequences = []\n",
    "        for i in progress_bar(range(len(seqs)-self.batch_len)):\n",
    "            sequences.append([self.vocab[o] for o in seqs[i:i+self.batch_len]])\n",
    "        self.data = sequences"
   ]
  },
  {
   "cell_type": "markdown",
   "metadata": {},
   "source": [
    "## Model"
   ]
  },
  {
   "cell_type": "code",
   "execution_count": 5,
   "metadata": {},
   "outputs": [],
   "source": [
    "class Model(nn.Module):\n",
    "    def __init__(self, input_size, hidden_dim, vocab_size, layers, model_path='model.pt'):\n",
    "        super().__init__()\n",
    "        self.embedding = nn.Embedding(input_size, hidden_dim)\n",
    "        self.lstm = nn.LSTM(hidden_dim, hidden_dim, layers, batch_first=True)\n",
    "        self.fc = nn.Linear(hidden_dim, out_features=vocab_size)\n",
    "        self.dropout = nn.Dropout(p=0.3)\n",
    "        self.model_path = Path(model_path)\n",
    "        if self.model_path.exists():\n",
    "            self.load_state_dict(torch.load(self.model_path))\n",
    "    \n",
    "    def forward(self, inputs, states=None):\n",
    "        x = inputs\n",
    "        x = self.embedding(x)\n",
    "        y, states = self.lstm(x, states)\n",
    "        y_last = self.dropout(y)\n",
    "        y_last = self.fc(y_last)\n",
    "        return y_last, states"
   ]
  },
  {
   "cell_type": "markdown",
   "metadata": {},
   "source": [
    "## System"
   ]
  },
  {
   "cell_type": "code",
   "execution_count": 9,
   "metadata": {},
   "outputs": [],
   "source": [
    "class System:\n",
    "    \n",
    "    def __init__(self, ds_trn, ds_val, config, save_path='model.pt'):\n",
    "        self.ds_trn = ds_trn\n",
    "        self.ds_val = ds_val\n",
    "        self.config = config\n",
    "        self.vocab = ds_trn.vocab\n",
    "        self.idx2char = ds_trn.idx2char\n",
    "        self.model = Model(len(self.vocab), config.hidden_dim, len(self.vocab), config.num_layers).to(config.device)\n",
    "        self.criterion = nn.CrossEntropyLoss()\n",
    "        self.optimizer = torch.optim.AdamW(self.model.parameters(), lr=config.lr)\n",
    "        self.save_path = save_path\n",
    "        \n",
    "        if Path(self.save_path).exists():\n",
    "            self.model.load_state_dict(torch.load(self.save_path))\n",
    "            \n",
    "    def save(self, name=None):\n",
    "        if not name: name = self.save_path\n",
    "        torch.save(self.best_weight, name)\n",
    "\n",
    "    \n",
    "    def get_dataloader(self, stage):\n",
    "        def collate_fn(batch):\n",
    "            batch = np.array(batch)\n",
    "            return torch.from_numpy(batch[:,:-1]).long(), torch.from_numpy(batch[:,1:]).long()\n",
    "        \n",
    "        if stage=='train':\n",
    "            return DataLoader(self.ds_trn, batch_size=self.config.batch_size, collate_fn=collate_fn, shuffle=True)\n",
    "        elif stage=='val':\n",
    "            return DataLoader(self.ds_val, batch_size=self.config.batch_size, collate_fn=collate_fn, shuffle=False)\n",
    "    \n",
    "    \n",
    "    def _acc_metric(self, y, preds):\n",
    "        return torch.sum(preds == y).item()/len(y)\n",
    "    \n",
    "    \n",
    "    def run_epoch(self, stage, mb, update_batch=100):\n",
    "        if stage=='train':\n",
    "            self.model.train()\n",
    "        else:\n",
    "            self.model.eval()\n",
    "        loss_hist, metric_hist = [], []\n",
    "        \n",
    "        child_bar = enumerate(progress_bar(self.get_dataloader(stage), parent=mb))\n",
    "        for ibatch, batch in child_bar:\n",
    "            X, y = batch\n",
    "            X = X.to(self.config.device)\n",
    "            labels = y.to(self.config.device)\n",
    "            \n",
    "            # For one step\n",
    "            self.optimizer.zero_grad()\n",
    "            with torch.set_grad_enabled(stage=='train'):\n",
    "                outputs, states = self.model( X )\n",
    "                outputs = outputs.reshape(-1, len(self.vocab))\n",
    "                labels = labels.reshape(-1)\n",
    "                preds = outputs.argmax(dim=1)\n",
    "                l = self.criterion(outputs, labels)\n",
    "                if stage=='train':\n",
    "                    l.backward()\n",
    "                    self.optimizer.step()\n",
    "            \n",
    "            # evaluate\n",
    "            loss_hist.append(l.item())\n",
    "            metric_hist.append(self._acc_metric(labels, preds))\n",
    "            if ibatch % update_batch==0: \n",
    "                mb.child.comment = f'{stage}: loss:{np.round(loss_hist[-1],3)}, metric:{np.round(metric_hist[-1],3)}'\n",
    "        \n",
    "        return dict(loss=np.mean(loss_hist), metric=np.mean(metric_hist))\n",
    "    \n",
    "    \n",
    "    \n",
    "    def fit(self, num_epochs):\n",
    "        print(\"\\t\\tStart Training\")\n",
    "        self.best_perf = 0\n",
    "        self.trn_loss_hist, self.val_loss_hist = [], []\n",
    "        self.trn_met_hist, self.val_met_hist = [], []\n",
    "        \n",
    "        mb = master_bar(range(num_epochs))\n",
    "        for epoch in mb:\n",
    "            mb.main_bar.comment = f'Epoch:{epoch}'\n",
    "            \n",
    "            # train\n",
    "            train_result = self.run_epoch('train', mb)\n",
    "            # val\n",
    "            val_result = self.run_epoch('val', mb)\n",
    "            self.trn_loss_hist.append(train_result['loss'])\n",
    "            self.val_loss_hist.append(val_result['loss'])\n",
    "            self.trn_met_hist.append(train_result['metric'])\n",
    "            self.val_met_hist.append(val_result['metric'])\n",
    "            \n",
    "            if self.val_met_hist[-1] > self.best_perf:\n",
    "                self.best_perf = self.val_met_hist[-1]\n",
    "                self.best_weight = deepcopy(self.model.state_dict())\n",
    "                self.best_epoch = epoch\n",
    "                self.save()\n",
    "            \n",
    "            mb.write(f\"\"\"Epoch {epoch}/{num_epochs - 1}, \\t\n",
    "                        trn_loss: {np.round(train_result['loss'],3)},\n",
    "                        val_loss: {np.round(val_result['loss'], 3)},\n",
    "                        val_acc: {np.round(val_result['metric'],3)}\"\"\"\n",
    "                    )\n",
    "            self.on_epoch_end(epoch)\n",
    "    \n",
    "    def on_epoch_end(self, i):\n",
    "        samples = self.sample(200, sample_num=20)\n",
    "        with open('generated.txt', 'a') as f:\n",
    "            f.write(f'Epoch: {i}')\n",
    "            for o in samples:\n",
    "                f.write(self.decode(o) + '\\n')\n",
    "            f.write('\\n\\n\\n')\n",
    "    \n",
    "    def sample(self, sample_length, sample_num=5, Temp=0.5):\n",
    "        states = None\n",
    "        x = torch.ones(sample_num, 1).long().to(self.config.device) * self.vocab['[SOS]']\n",
    "        history = [x]\n",
    "        for _ in range(sample_length):\n",
    "            logits, states = self.model(history[-1], states)\n",
    "            predicts = torch.multinomial(torch.softmax(logits[:,-1,:]/Temp, dim=-1), num_samples=1)\n",
    "            history.append(predicts)\n",
    "        outputs = torch.stack(history).squeeze().transpose(0, 1)\n",
    "        return outputs.cpu().numpy()\n",
    "    \n",
    "    def decode(self, inputs):\n",
    "        decoded = []\n",
    "        for o in inputs:\n",
    "            c = self.idx2char[o]\n",
    "#             if c == '[EOS]':\n",
    "#                 break\n",
    "            decoded.append(c)\n",
    "        return ''.join(decoded)\n",
    "    \n",
    "    def plot_loss(self, figname='losses.png'):\n",
    "        num_epochs = len(self.trn_loss_hist)\n",
    "        plt.plot(np.arange(num_epochs), self.trn_loss_hist, label='train_loss')\n",
    "        plt.plot(np.arange(num_epochs), self.val_loss_hist, label='val_loss')\n",
    "        plt.legend()\n",
    "        plt.show()\n",
    "        plt.savefig(figname)\n",
    "        \n",
    "    def plot_perf(self, figname='performance.png', metric_name='acc'):\n",
    "        num_epochs = len(self.trn_met_hist)\n",
    "        plt.plot(np.arange(num_epochs), self.trn_met_hist, label=f'train_{metric_name}')\n",
    "        plt.plot(np.arange(num_epochs), self.val_met_hist, label=f'val_{metric_name}')\n",
    "        plt.legend()\n",
    "        plt.show()\n",
    "        plt.savefig(figname)"
   ]
  },
  {
   "cell_type": "code",
   "execution_count": 10,
   "metadata": {},
   "outputs": [],
   "source": [
    "def main():\n",
    "    config = Config()\n",
    "    idx2char, char2idx, data_trn, data_val = get_data(config)\n",
    "    ds_trn = StarTrekDataset(config, idx2char, char2idx, data_trn)\n",
    "    ds_val = StarTrekDataset(config, idx2char, char2idx, data_val)\n",
    "    system = System(ds_trn, ds_val, config)\n",
    "    system.fit(20)\n",
    "    return system"
   ]
  },
  {
   "cell_type": "code",
   "execution_count": 17,
   "metadata": {},
   "outputs": [
    {
     "data": {
      "text/html": [
       "Epoch 0/2, \t\n",
       "                        trn_loss: 1.367,\n",
       "                        val_loss: 1.403,\n",
       "                        val_acc: 0.571<p>Epoch 1/2, \t\n",
       "                        trn_loss: 1.305,\n",
       "                        val_loss: 1.396,\n",
       "                        val_acc: 0.576<p>Epoch 2/2, \t\n",
       "                        trn_loss: 1.289,\n",
       "                        val_loss: 1.383,\n",
       "                        val_acc: 0.578"
      ],
      "text/plain": [
       "<IPython.core.display.HTML object>"
      ]
     },
     "metadata": {},
     "output_type": "display_data"
    }
   ],
   "source": [
    "if __name__ == \"__main__\":\n",
    "    system = main()"
   ]
  },
  {
   "cell_type": "markdown",
   "metadata": {},
   "source": [
    "## Performance"
   ]
  },
  {
   "cell_type": "code",
   "execution_count": 18,
   "metadata": {},
   "outputs": [
    {
     "data": {
      "image/png": "[encoded data removed]",
      "text/plain": [
       "<Figure size 432x288 with 1 Axes>"
      ]
     },
     "metadata": {
      "needs_background": "light"
     },
     "output_type": "display_data"
    },
    {
     "data": {
      "text/plain": [
       "<Figure size 432x288 with 0 Axes>"
      ]
     },
     "metadata": {},
     "output_type": "display_data"
    }
   ],
   "source": [
    "system.plot_loss()"
   ]
  },
  {
   "cell_type": "code",
   "execution_count": 19,
   "metadata": {},
   "outputs": [
    {
     "data": {
      "image/png": "[encoded data removed]",
      "text/plain": [
       "<Figure size 432x288 with 1 Axes>"
      ]
     },
     "metadata": {
      "needs_background": "light"
     },
     "output_type": "display_data"
    },
    {
     "data": {
      "text/plain": [
       "<Figure size 432x288 with 0 Axes>"
      ]
     },
     "metadata": {},
     "output_type": "display_data"
    }
   ],
   "source": [
    "system.plot_perf()"
   ]
  },
  {
   "cell_type": "code",
   "execution_count": 90,
   "metadata": {},
   "outputs": [
    {
     "name": "stdout",
     "output_type": "stream",
     "text": [
      "[SOS]RAEL: Captain, the high asteroid humans, am I have these thing they come on.[EOS][SOS]SPOCK: Spock, which will you go ago.[EOS][SOS]SCOTT: Here it might him, you'll conced that Kirk they path of his mind will discuss\n",
      "[SOS]FINNEY: But do you know off, Captain.[EOS][SOS]KARA: I'm not function.[EOS][SOS]UHURA [OC]: We're extremely used with immediately.[EOS][SOS]KIRK: Kirk here. Of course, Lieutenan. Will you, I don't under once.[EOS][SOS]KIRK: Why not.\n",
      "[SOS]SCOTT: Harry. We've even successed us up to Deela? Getting a gild! What you and the Fuhrer's possible. It's not doing up everything about you identified. Almost once, Mister Spock.[EOS][SOS]HENGIST: Rich! Doe\n",
      "[SOS]SPOCK: Right, Doctor McCoy here. Or a silent, and HeTh, Rom, we K![EOS][SOS]ALICE, I know what lighten you. Narm. I am fines are prove that she correct, Proconsul.[EOS][SOS]SERGEANT: Affording to know how I wrote a m\n",
      "[SOS]KIRK: That will be monitored ridium.[EOS][SOS]SALISH: Or do you mean, eleven, now that could understand the mines of wars over and it four, de one kill him!, and arthell, Captain?[EOS][SOS]KIRK: There was nece on bei\n",
      "[SOS]SPOCK [OC]: Uhle station understand why the recorder units. There's an entire point were my own specialiser Mirandadoo?[EOS][SOS]KOROB: Now the ship, tact liage on. They will be so commperations, Captain?[EOS][SOS]KI\n",
      "[SOS]ENEG: Don't you hurt him to be walking in.[EOS][SOS]SPOCK: Over me have baded, Yeoman, in questioning one. Excuse me.[EOS][SOS]KELIA: I'm going?[EOS][SOS]BEHAN: (becoming down as in given them, aren't you?[EOS][SOS]ANDREA: Don't you\n",
      "[SOS]KIRK: Get until I asside a ssother.[EOS][SOS]COMPUTER: With me?[EOS][SOS]KIRK: Revealed.[EOS][SOS]GALT [OC]: You, condition, to them.[EOS][SOS]SCOTT: Oh, hearting the astals like miningueship Mister Sulu. You said we are good blame \n",
      "[SOS]MCCOY: Haximum for whethqum the psychargeal now, ninety original ardead. So while and you remains gods are to be a breadings, they may do what, sir.[EOS][SOS]SPOCK: Soon, Mister Scott. Stile only an enemy wil\n",
      "[SOS]CLAYMARE: I was oper! It straggesticals wrong he has what we could you be children, Lieutenant.[EOS][SOS]UHURA: Pick when we sux. And they don't know that I want you lead of what Starfleet Commission.[EOS][SOS]SPOCK \n",
      "[SOS]CLAYMARE: I have given your computers seems to be a burus. I'll have all giving those points. (exittes would first course matter, but for something you'll be immediately. That's not decks, a message, \n",
      "[SOS]SPOCK [OC]: She does he was absorving me to do and form here, Mister Scott. Now Mister Scott, thing) I suve been mate from a moment, either cannot see you.[EOS][SOS]MCCOY: I'll be in scanning correcthy.[EOS][SOS]KIRK\n",
      "[SOS]DECKER: Lausiums you two his foods went I wouldn't want mountary control, rip me![EOS][SOS]SULU: For the pretenant Lultire its brain. What kills with the plote charges. It could probe you gone to me. Good wor\n",
      "[SOS]SCOTT: According to Captain, well, I'll kill push another exactly, we want? I can't interest you very people aboard, ications will anticias can might be degeneration. All of prisweating easi had for S\n",
      "[SOS]SPOCK: You have some wife's moment, appell unix. Organia, was Mister Sulu.[EOS][SOS]SULU: We are quite emotion.[EOS][SOS]KIRK: I was his duty inside the planet! (gives me us begin one of your question. We know the si\n",
      "[SOS]SCOTT: However will you?[EOS][SOS]GELDER: Paradod, sir.[EOS][SOS]KIRK: A oncerned. Register that a childress ingenerals. Vulcans and question? The way in your meant blood craft, that kinds, forces h own its place of \n",
      "[SOS]MIRANDA: Take you, like Lieutenant. Don't had, three. Perhaps[EOS][SOS]KIRK: You, shirt, sir.[EOS][SOS]MCCOY: They will forgive yourself, sir. Buth your side is existed to bend us exsence even would an and making out\n",
      "[SOS]SHAW: How to kill me aboard the source. Probably strong on subjects crisison, I know what. All scanner propose are no primitive for ourselvemn, an immemediate great dismission, Mister Spock, you're kn\n",
      "[SOS]KIRK: Sickbay, Melukn Cover. Are you going and then you must not accident.[EOS][SOS]KALO: Doctor Altarve, and he once her, maintainment its thoum than a feelings will do, sir.[EOS][SOS]KIRK: Lieutenant Navicide. At l\n",
      "[SOS]HACOM [OC]: So, I was hardly lovely, Spock, stook this sensors?[EOS][SOS]KIRK: Get until we are not run to them an Orionic tissue.[EOS][SOS]OXMYX [on monitor]: Once me ahead.[EOS][SOS]AYELBORNE: She will right, Jim.[EOS][SOS]NUMBOLD\n",
      "[SOS]KIRK: Magnified what you seem all the Eeffee to select without arenator. Human to as botnock, and you're incerations are me if therefore the computer banks satisfactor point it commrtandaris. Your er \n",
      "[SOS]FLAVIUS:  I do not hit? What about the sir! Beam down.[EOS][SOS]GARTH: Now fame me.[EOS][SOS]KIRK: Impossive United Starfleet transporter beam of joinity that lither, and they've been three moment, Captain?[EOS][SOS]KIRK: Yo\n",
      "[SOS]KIRK: He need? Don't destray commendating, an idea, Captain. Correct. No! (ready. Hey[EOS][SOS]KIRK: But they've known? We are mine.[EOS][SOS]GARTH: Muwlselff?[EOS][SOS]KIRK: All right doesn't pick Vini.[EOS][SOS]MCCOY: Captain, ano\n",
      "[SOS]MCCOY: Weap have sense of history, the love seven.[EOS][SOS]MCCOY: The gr-wentitled clearing you fortunations, Layes, profice you button. We're big to beam you if we're going to high entire problem is take ou\n",
      "[SOS]SPOCK: You'll kill has standirity. I would tend trivified, Captain. I love forty starch is g. Maintain the Enterprise Recondyic? They akening. Go have Mitch! Our crewmate. Command?[EOS][SOS]lingon apparence y\n",
      "[SOS]KALO: Tern it while so Soon. More about me of his at sick, I was leader.[EOS][SOS]SHAW: There was something that your advick. What have I hedrent the secure is you stury in either![EOS][SOS]DEHNER: You will aose it[EOS][SOS]\n",
      "[SOS]STAHNA: You do it ahead of I won't questine, you have bodie. Let's do spare a higitudes again.[EOS][SOS]JHATON: I see you of one than return-guest of all knight.[EOS][SOS]KIRK: Spock![EOS][SOS]now who is exYet to re-ready, C\n",
      "[SOS]MCCOY: Sound it?[EOS][SOS]SULU: Riley thing I[EOS][SOS]SHAW: Extreme centuries a man of Vulcan? So she've mean like it. It's overdressed that the Academan millions -olding bodies. It's an Emingineering.[EOS][SOS]SPOCK: Comma\n",
      "[SOS]SPOCK [OC]: Alexander.[EOS][SOS]CHAPEL: No. Have you got ridiculous![EOS][SOS]SCOTT: Captain, one hours and be freedom, Lieutenant. Differ that against someone illogical walls and always still begin. Not with me?[EOS][SOS]AN\n",
      "[SOS]SCOTT: That our secret its threat galaxy Horize, Captain?[EOS][SOS]KIRK: Alpha advise for eventually ionic pig, does so, why, if we had for the worlds we're not allow me, you'd kiss you out the orulation.[EOS][SOS]CO\n",
      "[SOS]KIRK: We have a captain, create they has civilisation, His level. Nother sevinate[EOS][SOS]KIRK: Well, it seems all we quest Captain, legends of a sGres alert![EOS][SOS]UHURA: They were search the Earps they don't kn\n",
      "[SOS]MCCOY: Jim, we'll have a trouble curious we signification to officer.[EOS][SOS]STILES: The Academeon?[EOS][SOS]DEHNER: It'll tell me that I must[EOS][SOS]KARIS: Or we can do what we don't kill your work into my USS Bringing.\n",
      "[SOS]SPOCK: It expective. Red of believed people blue, however, sir. So staffs and Captain, what Scott here? Where's you have it betway fhee and cal. I know you continued to murdered all big gave) I'll tak\n",
      "[SOS]SPOCK [OC]: Some kilometres are seems to be a life. One seven five, that.[EOS][SOS]ALICE 1: You're a half in didn't know you won't looks a child.[EOS][SOS]UHURA: Parmen, so didn't know how, misidea and nurse.[EOS][SOS]ALICE \n",
      "[SOS]SPOCK [OC]: Eterces ahead, deserve mine. On the sir.[EOS][SOS]KHAN: Ence Miss Garth. It was frightening. Even battle. Is there more mechanism. (here has been inquire you reason to his handling, Captain, we'll\n",
      "[SOS]SALISH: Hi) read curious half-alert martholushmeone ties himself tals.[EOS][SOS]SYBO: Captain, I don't only zero.[EOS][SOS]KYLE: Nable out everything?[EOS][SOS]SPOCK: Alert I live before, Captain, I do nonsitions are. Watch,\n",
      "[SOS]MCCOY: Kirk here, we will serve you. I'll need pre) I think I'm gone. In (to give me this.[EOS][SOS]KIRK: We do there and be bit of elements.[EOS][SOS]TIRANDA: Khan.[EOS][SOS]SULU: Seconds, there's a moment it. I've been com\n",
      "[SOS]KIRK: Edition is not ill I conquestion.[EOS][SOS]KIRK: Kirk here.[EOS][SOS]KIRK: So it will take a course we're here than this.[EOS][SOS]FARROLL: Then that they talk. What's his unious faid, Look out.[EOS][SOS]MCCOY: How when he sho\n",
      "[SOS]SPOCK [OC]: Bitnge choice. Have Captain Kirk and only gods we were short can with that, don't you?[EOS][SOS]ABROWE: Solutely. (very disturb off.[EOS][SOS]KIRK: I would understand you, thank you, Kang! Enterprise, I w\n",
      "[SOS], If I told you. They seems to have to her the back on the closing.[EOS][SOS]KIRK: But I trie's be a lump. The whole way on Epo anywhere's a look at this homenon. They do not cause her.[EOS][SOS]TRELANE: Any everybod\n"
     ]
    }
   ],
   "source": [
    "samples = system.sample(200, sample_num=40)\n",
    "for o in samples:\n",
    "    print(system.decode(o))"
   ]
  },
  {
   "cell_type": "code",
   "execution_count": null,
   "metadata": {},
   "outputs": [],
   "source": []
  }
 ],
 "metadata": {
  "kernelspec": {
   "display_name": "Python 3",
   "language": "python",
   "name": "python3"
  },
  "language_info": {
   "codemirror_mode": {
    "name": "ipython",
    "version": 3
   },
   "file_extension": ".py",
   "mimetype": "text/x-python",
   "name": "python",
   "nbconvert_exporter": "python",
   "pygments_lexer": "ipython3",
   "version": "3.8.1"
  }
 },
 "nbformat": 4,
 "nbformat_minor": 4
}
