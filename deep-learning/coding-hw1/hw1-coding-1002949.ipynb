{
 "cells": [
  {
   "cell_type": "markdown",
   "metadata": {},
   "source": [
    "## you need to install numpy and sklearn for the task"
   ]
  },
  {
   "cell_type": "code",
   "execution_count": 1,
   "metadata": {},
   "outputs": [],
   "source": [
    "import numpy as np\n",
    "from sklearn.model_selection import train_test_split\n",
    "from pathlib import Path\n",
    "from sklearn.model_selection import StratifiedShuffleSplit\n",
    "from sklearn.svm import SVC\n",
    "from sklearn.metrics import accuracy_score, balanced_accuracy_score"
   ]
  },
  {
   "cell_type": "code",
   "execution_count": 2,
   "metadata": {},
   "outputs": [],
   "source": [
    "main_folder = Path('imageclef2011_feats/')\n",
    "with open('trainset_gt_annotations.txt') as f:\n",
    "    y_all = []\n",
    "    x_all = []\n",
    "    for l in f.readlines():\n",
    "        y_all.append([int(o) for o in l.split()[1:]])\n",
    "        filepath = str(main_folder/l.split()[0]).split('.')[0] + '.jpg_ft.npy'\n",
    "        x_all.append(np.load(filepath))\n",
    "\n",
    "with open('concepts_2011.txt') as f:\n",
    "    labels_names = [l.split()[1] for l in f.readlines()[1:]]"
   ]
  },
  {
   "cell_type": "markdown",
   "metadata": {},
   "source": [
    "## generate dataset"
   ]
  },
  {
   "cell_type": "code",
   "execution_count": 3,
   "metadata": {},
   "outputs": [
    {
     "data": {
      "text/plain": [
       "(9, 10, 11, 12)"
      ]
     },
     "execution_count": 3,
     "metadata": {},
     "output_type": "execute_result"
    }
   ],
   "source": [
    "labels_names.index('Spring'), labels_names.index('Summer'), labels_names.index('Autumn'), labels_names.index('Winter')"
   ]
  },
  {
   "cell_type": "code",
   "execution_count": 4,
   "metadata": {},
   "outputs": [],
   "source": [
    "X_spring, X_summer, X_autumn, X_winter = [], [], [], []\n",
    "for xo, yo in zip(x_all, y_all):\n",
    "    if yo[9] == 1 or yo[10] == 1 or yo[11] == 1 or yo[12] == 1:\n",
    "        if yo[9] == 1:\n",
    "            X_spring.append(xo)\n",
    "        elif yo[10] == 1:\n",
    "            X_summer.append(xo)\n",
    "        elif yo[11] == 1:\n",
    "            X_autumn.append(xo)\n",
    "        else: \n",
    "            X_winter.append(xo)"
   ]
  },
  {
   "cell_type": "markdown",
   "metadata": {},
   "source": [
    "## First test out spring"
   ]
  },
  {
   "cell_type": "code",
   "execution_count": 5,
   "metadata": {},
   "outputs": [],
   "source": [
    "train_size = 0.6\n",
    "val_size = 0.15\n",
    "test_size = 0.25\n",
    "# spring\n",
    "spring_train_x, spring_test_x = np.split(X_spring, [int((train_size+val_size)*len(X_spring))])\n",
    "spring_train_x, spring_val_x = np.split(spring_train_x, [int(train_size*len(X_spring))])\n",
    "# Summner\n",
    "summer_train_x, summer_test_x = np.split(X_summer, [int((train_size+val_size)*len(X_summer))])\n",
    "summer_train_x, summer_val_x = np.split(summer_train_x, [int(train_size*len(X_summer))])\n",
    "# Autumn\n",
    "autumn_train_x, autumn_test_x = np.split(X_autumn, [int((train_size+val_size)*len(X_autumn))])\n",
    "autumn_train_x, autumn_val_x = np.split(autumn_train_x, [int(train_size*len(X_autumn))])\n",
    "# Winter\n",
    "winter_train_x, winter_test_x = np.split(X_winter, [int((train_size+val_size)*len(X_winter))])\n",
    "winter_train_x, winter_val_x = np.split(winter_train_x, [int(train_size*len(X_winter))])\n"
   ]
  },
  {
   "cell_type": "code",
   "execution_count": 6,
   "metadata": {},
   "outputs": [],
   "source": [
    "train_x = np.concatenate([spring_train_x, summer_train_x, autumn_train_x, winter_train_x])\n",
    "spring_train_y = len(spring_train_x)*[1] + len(summer_train_x)*[0] + len(autumn_train_x)*[0] + len(winter_train_x)*[0]\n",
    "summer_train_y = len(spring_train_x)*[0] + len(summer_train_x)*[1] + len(autumn_train_x)*[0] + len(winter_train_x)*[0]\n",
    "autumn_train_y = len(spring_train_x)*[0] + len(summer_train_x)*[0] + len(autumn_train_x)*[1] + len(winter_train_x)*[0]\n",
    "winter_train_y = len(spring_train_x)*[0] + len(summer_train_x)*[0] + len(autumn_train_x)*[0] + len(winter_train_x)*[1]\n",
    "train_y = len(spring_train_x)*[0] + len(summer_train_x)*[1] + len(autumn_train_x)*[2] + len(winter_train_x)*[3]\n",
    "\n",
    "\n",
    "val_x = np.concatenate([spring_val_x, summer_val_x, autumn_val_x, winter_val_x])\n",
    "val_y = len(spring_val_x)*[0] + len(summer_val_x)*[1] + len(autumn_val_x)*[2] + len(winter_val_x)*[3]\n",
    "\n",
    "test_x = np.concatenate([spring_test_x, summer_test_x, autumn_test_x, winter_test_x])\n",
    "test_y = len(spring_test_x)*[0] + len(summer_test_x)*[1] + len(autumn_test_x)*[2] + len(winter_test_x)*[3]"
   ]
  },
  {
   "cell_type": "code",
   "execution_count": 7,
   "metadata": {},
   "outputs": [],
   "source": [
    "np.save('train_x.npy', train_x, )\n",
    "np.save('train_y.npy', train_y, )\n",
    "np.save('val_x.npy', val_x,  )\n",
    "np.save('val_y.npy', val_y,  )\n",
    "np.save('test_x.npy', test_x, )\n",
    "np.save('test_y.npy', test_y, )"
   ]
  },
  {
   "cell_type": "markdown",
   "metadata": {},
   "source": [
    "## using sklearn.svm.SVC using 'RBF' kernel (default)"
   ]
  },
  {
   "cell_type": "code",
   "execution_count": 8,
   "metadata": {},
   "outputs": [],
   "source": [
    "def classwise_accuracy(y_true, y_pred):\n",
    "    num_classes = len(set(y_true))\n",
    "    correct = np.zeros(num_classes)\n",
    "    total = np.zeros(num_classes)\n",
    "    for t, p in zip(y_true, y_pred):\n",
    "        total[t] += 1\n",
    "        if t == p:\n",
    "            correct[t] += 1\n",
    "    acc = sum(correct) / sum(total)\n",
    "    class_acc = sum(correct/total) / num_classes\n",
    "    return acc, class_acc\n",
    "            \n",
    "            "
   ]
  },
  {
   "cell_type": "code",
   "execution_count": 9,
   "metadata": {},
   "outputs": [],
   "source": [
    "Cs = [1e-2, 1e-1, 1e-1**0.5, 1, 1e1**0.5, 1e1, 1e3**0.5]\n",
    "balanced_accs = []\n",
    "accs = []\n",
    "\n",
    "for c in Cs: # Training\n",
    "    clf_spring = SVC(C=c, probability=True, gamma='auto')\n",
    "    clf_spring.fit(train_x, spring_train_y)\n",
    "    clf_summer = SVC(C=c, probability=True, gamma='auto')\n",
    "    clf_summer.fit(train_x, summer_train_y)\n",
    "    clf_autumn = SVC(C=c, probability=True, gamma='auto')\n",
    "    clf_autumn.fit(train_x, autumn_train_y)\n",
    "    clf_winter = SVC(C=c, probability=True, gamma='auto')\n",
    "    clf_winter.fit(train_x, winter_train_y)\n",
    "    # val\n",
    "    val_spring = clf_spring.predict_proba(val_x)[:, 1]\n",
    "    val_summer = clf_summer.predict_proba(val_x)[:, 1]\n",
    "    val_autumn = clf_autumn.predict_proba(val_x)[:, 1]\n",
    "    val_winter = clf_winter.predict_proba(val_x)[:, 1]\n",
    "    val_prob = np.vstack([val_spring, val_summer, val_autumn, val_winter]).T\n",
    "    val_predict = val_prob.argmax(axis=1)\n",
    "    acc, balanced_acc = classwise_accuracy(val_y, val_predict)\n",
    "    balanced_accs.append(balanced_acc)\n",
    "    accs.append(acc)"
   ]
  },
  {
   "cell_type": "code",
   "execution_count": 10,
   "metadata": {},
   "outputs": [
    {
     "name": "stdout",
     "output_type": "stream",
     "text": [
      "The best C is : 1\n"
     ]
    }
   ],
   "source": [
    "print(\"The best C is :\", Cs[np.argmax(balanced_accs)])"
   ]
  },
  {
   "cell_type": "code",
   "execution_count": 11,
   "metadata": {},
   "outputs": [
    {
     "name": "stdout",
     "output_type": "stream",
     "text": [
      "C:  0.01     classwise accuracy:  0.59   accuracy:  0.76\n",
      "C:  0.1     classwise accuracy:  0.58   accuracy:  0.76\n",
      "C:  0.32     classwise accuracy:  0.6   accuracy:  0.77\n",
      "C:  1     classwise accuracy:  0.61   accuracy:  0.78\n",
      "C:  3.16     classwise accuracy:  0.61   accuracy:  0.79\n",
      "C:  10.0     classwise accuracy:  0.58   accuracy:  0.78\n",
      "C:  31.62     classwise accuracy:  0.55   accuracy:  0.77\n"
     ]
    }
   ],
   "source": [
    "for c, b_acc, acc in zip(Cs, balanced_accs, accs):\n",
    "    print(\"C: \", round(c,2),  \"    classwise accuracy: \", round(b_acc,2)  , \"  accuracy: \", round(acc,2),)"
   ]
  },
  {
   "cell_type": "code",
   "execution_count": 12,
   "metadata": {},
   "outputs": [],
   "source": [
    "# test on the test set"
   ]
  },
  {
   "cell_type": "code",
   "execution_count": 13,
   "metadata": {},
   "outputs": [],
   "source": [
    "train_x = np.concatenate([train_x, val_x])\n",
    "spring_val_y = len(spring_val_x)*[1] + len(summer_val_x)*[0] + len(autumn_val_x)*[0] + len(winter_val_x)*[0]\n",
    "summer_val_y = len(spring_val_x)*[0] + len(summer_val_x)*[1] + len(autumn_val_x)*[0] + len(winter_val_x)*[0]\n",
    "autumn_val_y = len(spring_val_x)*[0] + len(summer_val_x)*[0] + len(autumn_val_x)*[1] + len(winter_val_x)*[0]\n",
    "winter_val_y = len(spring_val_x)*[0] + len(summer_val_x)*[0] + len(autumn_val_x)*[0] + len(winter_val_x)*[1]\n",
    "spring_train_y = np.concatenate([spring_train_y, spring_val_y])\n",
    "summer_train_y = np.concatenate([summer_train_y, summer_val_y])\n",
    "autumn_train_y = np.concatenate([autumn_train_y, autumn_val_y])\n",
    "winter_train_y = np.concatenate([winter_train_y, winter_val_y])"
   ]
  },
  {
   "cell_type": "code",
   "execution_count": 14,
   "metadata": {},
   "outputs": [],
   "source": [
    "c = Cs[np.argmax(balanced_accs)]\n",
    "\n",
    "clf_spring = SVC(C=c, probability=True, gamma='auto')\n",
    "clf_spring.fit(train_x, spring_train_y)\n",
    "clf_summer = SVC(C=c, probability=True, gamma='auto')\n",
    "clf_summer.fit(train_x, summer_train_y)\n",
    "clf_autumn = SVC(C=c, probability=True, gamma='auto')\n",
    "clf_autumn.fit(train_x, autumn_train_y)\n",
    "clf_winter = SVC(C=c, probability=True, gamma='auto')\n",
    "clf_winter.fit(train_x, winter_train_y)\n",
    "# val\n",
    "val_spring = clf_spring.predict_proba(test_x)[:, 1]\n",
    "val_summer = clf_summer.predict_proba(test_x)[:, 1]\n",
    "val_autumn = clf_autumn.predict_proba(test_x)[:, 1]\n",
    "val_winter = clf_winter.predict_proba(test_x)[:, 1]\n",
    "\n",
    "val_prob = np.vstack([val_spring, val_summer, val_autumn, val_winter]).T\n",
    "val_predict = val_prob.argmax(axis=1)\n",
    "acc = accuracy_score(test_y, val_predict)\n",
    "balanced_acc = balanced_accuracy_score(test_y, val_predict)\n",
    "balanced_accs.append(balanced_acc)"
   ]
  },
  {
   "cell_type": "code",
   "execution_count": 15,
   "metadata": {
    "scrolled": true
   },
   "outputs": [
    {
     "name": "stdout",
     "output_type": "stream",
     "text": [
      "classwise accuracy on test set:  0.5502473627473627\n",
      "vanilla accuracy on test set:  0.7558823529411764\n"
     ]
    }
   ],
   "source": [
    "print(\"classwise accuracy on test set: \", balanced_acc)\n",
    "print(\"vanilla accuracy on test set: \", acc)"
   ]
  },
  {
   "cell_type": "code",
   "execution_count": null,
   "metadata": {},
   "outputs": [],
   "source": []
  }
 ],
 "metadata": {
  "kernelspec": {
   "display_name": "Python 3",
   "language": "python",
   "name": "python3"
  },
  "language_info": {
   "codemirror_mode": {
    "name": "ipython",
    "version": 3
   },
   "file_extension": ".py",
   "mimetype": "text/x-python",
   "name": "python",
   "nbconvert_exporter": "python",
   "pygments_lexer": "ipython3",
   "version": "3.7.3"
  }
 },
 "nbformat": 4,
 "nbformat_minor": 2
}
