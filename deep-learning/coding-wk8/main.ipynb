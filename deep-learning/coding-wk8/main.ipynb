{
 "cells": [
  {
   "cell_type": "code",
   "execution_count": 1,
   "metadata": {},
   "outputs": [],
   "source": [
    "from basic_imports import *\n",
    "from torch_imports import *\n",
    "import glob\n",
    "import unicodedata\n",
    "import string"
   ]
  },
  {
   "cell_type": "markdown",
   "metadata": {},
   "source": [
    "## Config"
   ]
  },
  {
   "cell_type": "code",
   "execution_count": 147,
   "metadata": {},
   "outputs": [],
   "source": [
    "class Config:\n",
    "    datadir = 'data/names/*.txt'\n",
    "    batch_size = 16\n",
    "    hidden_dim = 128\n",
    "    lr = 0.03\n",
    "    device = 'cuda:1'\n",
    "    num_layers = 1\n",
    "    num_epochs = 7\n",
    "config = Config()"
   ]
  },
  {
   "cell_type": "markdown",
   "metadata": {},
   "source": [
    "## Dataset and Dataloader"
   ]
  },
  {
   "cell_type": "code",
   "execution_count": 148,
   "metadata": {},
   "outputs": [],
   "source": [
    "def findFiles(path): return glob.glob(path)\n",
    "\n",
    "all_letters = string.ascii_letters + \" .,;'\"\n",
    "n_letters = len(all_letters)\n",
    "\n",
    "# Turn a Unicode string to plain ASCII, thanks to https://stackoverflow.com/a/518232/2809427\n",
    "def unicodeToAscii(s):\n",
    "    return ''.join(\n",
    "        c for c in unicodedata.normalize('NFD', s)\n",
    "        if unicodedata.category(c) != 'Mn'\n",
    "        and c in all_letters\n",
    "    )\n",
    "\n",
    "# Build the category_lines dictionary, a list of names per language\n",
    "category_lines = {}\n",
    "all_categories = []\n",
    "\n",
    "# Read a file and split into lines\n",
    "def readLines(filename):\n",
    "    lines = open(filename, encoding='utf-8').read().strip().split('\\n')\n",
    "    return [unicodeToAscii(line) for line in lines]\n",
    "\n",
    "for filename in findFiles(config.datadir):\n",
    "    category = os.path.splitext(os.path.basename(filename))[0]\n",
    "    all_categories.append(category)\n",
    "    lines = readLines(filename)\n",
    "    category_lines[category] = lines\n",
    "n_categories = len(category_lines.keys())"
   ]
  },
  {
   "cell_type": "code",
   "execution_count": 149,
   "metadata": {},
   "outputs": [],
   "source": [
    "# Find letter index from all_letters, e.g. \"a\" = 0\n",
    "def letterToIndex(letter):\n",
    "    return all_letters.find(letter)\n",
    "\n",
    "# Just for demonstration, turn a letter into a <1 x n_letters> Tensor\n",
    "def letterToTensor(letter):\n",
    "    tensor = np.zeros((1, n_letters))\n",
    "    tensor[0][letterToIndex(letter)] = 1\n",
    "    return tensor\n",
    "\n",
    "# Turn a line into a <line_length x 1 x n_letters>,\n",
    "# or an array of one-hot letter vectors\n",
    "# def lineToTensor(lines, max_len):\n",
    "#     tensor = np.zeros((len(lines), max_len, n_letters))\n",
    "#     seq_lens = np.zeros(len(lines))\n",
    "#     for wi, word in enumerate(lines):\n",
    "#         seq_lens[wi] = len(word)\n",
    "#         for li, letter in enumerate(word):\n",
    "#             tensor[wi][li][letterToIndex(letter)] = 1\n",
    "#     return tensor, seq_lens\n",
    "\n",
    "def lineToTensor(lines):\n",
    "    word_list = []\n",
    "    for word in lines:\n",
    "        letter_list = []\n",
    "        for l in word:\n",
    "            letter_list.append(letterToIndex(l))\n",
    "        word_list.append(letter_list)\n",
    "    return np.array(word_list)\n",
    "\n",
    "def categoryFromOutput(output):\n",
    "    top_n, top_i = output.topk(1)\n",
    "    category_i = top_i[0].item()\n",
    "    return all_categories[category_i], category_i\n",
    "\n",
    "\n",
    "def randomChoice(l):\n",
    "    return l[random.randint(0, len(l) - 1)]\n",
    "\n",
    "def randomTrainingExample():\n",
    "    category = randomChoice(all_categories)\n",
    "    line = randomChoice(category_lines[category])\n",
    "    category_tensor = torch.tensor([all_categories.index(category)], dtype=torch.long)\n",
    "    line_tensor = lineToTensor(line)\n",
    "    return category, line, category_tensor, line_tensor"
   ]
  },
  {
   "cell_type": "code",
   "execution_count": 150,
   "metadata": {},
   "outputs": [],
   "source": [
    "max_len = max([len(o) for k in category_lines.keys() for o in category_lines[k]])\n",
    "\n",
    "\n",
    "trn_xs, trn_ys, val_xs, val_ys = [], [], [], []\n",
    "\n",
    "for k in category_lines.keys():\n",
    "    names = category_lines[k]\n",
    "    x = lineToTensor(names)\n",
    "    idx = np.arange(len(names))\n",
    "    y = np.array([all_categories.index(k) for _ in range(len(names))])\n",
    "    ## train and tst\n",
    "    trn_idx, tst_idx = np.split(idx, [int(len(names)*0.8)])\n",
    "    trn_x, trn_y, val_x, val_y = x[trn_idx], y[trn_idx], x[tst_idx], y[tst_idx]\n",
    "    \n",
    "    ## merge\n",
    "    trn_xs += list(trn_x)\n",
    "#     trn_seq_lens.append(trn_seq_len)\n",
    "    trn_ys.append(trn_y)\n",
    "    val_xs += list(val_x)\n",
    "#     val_seq_lens.append(val_seq_len)\n",
    "    val_ys.append(val_y)\n",
    "    \n",
    "# trn_xs = np.concatenate(trn_xs)\n",
    "# trn_seq_lens = np.concatenate(trn_seq_lens)\n",
    "trn_ys = np.concatenate(trn_ys)\n",
    "# val_xs = np.concatenate(val_xs)\n",
    "# val_seq_lens = np.concatenate(val_seq_lens)\n",
    "val_ys = np.concatenate(val_ys)"
   ]
  },
  {
   "cell_type": "code",
   "execution_count": 151,
   "metadata": {},
   "outputs": [],
   "source": [
    "def collate_fn(batch):\n",
    "    x, y = zip(*batch)\n",
    "    lens = np.array([len(o) for o in x])\n",
    "    max_len = max(lens)\n",
    "    seq_lens_idx = np.argsort(lens)[::-1]\n",
    "    lens = torch.Tensor(lens[seq_lens_idx]).long()\n",
    "    x = [x[i] for i in seq_lens_idx]\n",
    "    tensor_y = torch.Tensor([y[i] for i in seq_lens_idx]).long()\n",
    "    tensor_x = torch.zeros( len(x), max_len, n_letters) \n",
    "    for wi, word in enumerate(x):\n",
    "        for li, letter in enumerate(word):\n",
    "            tensor_x[wi][li][letter] = 1\n",
    "            \n",
    "    return tensor_x, lens, tensor_y"
   ]
  },
  {
   "cell_type": "code",
   "execution_count": 152,
   "metadata": {},
   "outputs": [],
   "source": [
    "class NameDataset(Dataset):\n",
    "    def __init__(self, X, y):\n",
    "        self.X = X\n",
    "        self.y = y\n",
    "        \n",
    "    def __getitem__(self, i):\n",
    "        return self.X[i], self.y[i]\n",
    "    \n",
    "    def __len__(self): return len(self.y)\n",
    "    \n",
    "ds_trn = NameDataset(trn_xs, trn_ys)\n",
    "ds_val = NameDataset(val_xs, val_ys)\n",
    "dl_trn = DataLoader(ds_trn, batch_size=config.batch_size, collate_fn=collate_fn, shuffle=True)\n",
    "dl_val = DataLoader(ds_val, batch_size=config.batch_size, collate_fn=collate_fn, shuffle=True)"
   ]
  },
  {
   "cell_type": "markdown",
   "metadata": {},
   "source": [
    "## Model"
   ]
  },
  {
   "cell_type": "code",
   "execution_count": 167,
   "metadata": {},
   "outputs": [],
   "source": [
    "class RNN(nn.Module):\n",
    "    def __init__(self, input_size, hidden_size, num_layers, output_size, model_type):\n",
    "        super().__init__()\n",
    "        if model_type == 'rnn':\n",
    "            self.model = nn.RNN\n",
    "        elif model_type == 'lstm':\n",
    "            self.model = nn.LSTM\n",
    "        elif model_type == 'gru':\n",
    "            self.model = nn.GRU\n",
    "        self.rnn = self.model(input_size=input_size, hidden_size=hidden_size, num_layers=num_layers, batch_first=True)\n",
    "        self.fc = nn.Linear(hidden_size, output_size)\n",
    "        self.model_type = model_type\n",
    "        \n",
    "    def forward(self, inputs):\n",
    "        x, seq_lens = inputs\n",
    "        ## TODO: need to unpack?\n",
    "        x_pack = nn.utils.rnn.pack_padded_sequence(x, seq_lens, batch_first=True)\n",
    "        if self.model_type == 'rnn' or self.model_type == 'gru':\n",
    "            y_pack, hn = self.rnn(x_pack)\n",
    "        elif self.model_type == 'lstm':\n",
    "            y_pack, (hn, _) = self.rnn(x_pack)\n",
    "        y, _ = nn.utils.rnn.pad_packed_sequence(y_pack, batch_first=True)\n",
    "        y_last = torch.stack([y[i,seq_lens[i]-1,:] for i in range(len(x))])\n",
    "        output = self.fc(y_last)\n",
    "        return output"
   ]
  },
  {
   "cell_type": "markdown",
   "metadata": {},
   "source": [
    "## Optimizer, criterion"
   ]
  },
  {
   "cell_type": "code",
   "execution_count": 158,
   "metadata": {},
   "outputs": [],
   "source": [
    "criterion = nn.CrossEntropyLoss()"
   ]
  },
  {
   "cell_type": "markdown",
   "metadata": {},
   "source": [
    "## Train & evaluate"
   ]
  },
  {
   "cell_type": "code",
   "execution_count": 159,
   "metadata": {},
   "outputs": [],
   "source": [
    "def train(model, dl, optimizer, criterion, num_instances, train=True):\n",
    "    if train:\n",
    "        model.train()\n",
    "    else:\n",
    "        model.eval()\n",
    "    loss, acc = 0, 0\n",
    "    \n",
    "    for X, seq_lens, y in dl:\n",
    "        X = X.to(config.device)\n",
    "        seq_lens = seq_lens.to(config.device)\n",
    "        labels = y.to(config.device)\n",
    "        optimizer.zero_grad()\n",
    "        \n",
    "        with torch.set_grad_enabled(train):\n",
    "            outputs = model( (X, seq_lens) )\n",
    "            preds = outputs.argmax(dim=1)\n",
    "            l = criterion(outputs, labels)\n",
    "            if train:\n",
    "                l.backward()\n",
    "                optimizer.step()\n",
    "        loss += l.item()\n",
    "        acc += torch.sum(preds == labels).item()\n",
    "    loss /= len(dl)\n",
    "    acc /= num_instances\n",
    "    return loss, acc\n",
    "\n",
    "def fit(ds_trn, ds_val, dl_trn, dl_val, model, criterion):\n",
    "    optimizer = torch.optim.SGD(model.parameters(), lr=config.lr)\n",
    "    best_acc = 0\n",
    "    trn_losses, val_losses, val_accs = [], [], []\n",
    "    for epoch in range(config.num_epochs):\n",
    "        # train\n",
    "        trn_loss, trn_acc = train(model, dl_trn, optimizer, criterion, len(ds_trn), train=True)\n",
    "        # val\n",
    "        val_loss, val_acc = train(model, dl_val, optimizer, criterion, len(ds_val), train=False)\n",
    "        trn_losses.append(trn_loss)\n",
    "        val_losses.append(val_loss)\n",
    "        val_accs.append(val_acc)\n",
    "        if val_acc > best_acc:\n",
    "            best_acc = val_acc\n",
    "            best_weights = model.state_dict()\n",
    "            best_epoch = epoch\n",
    "        print(f'Epoch {epoch}/{config.num_epochs - 1}, trn_loss {trn_loss} val_loss {val_loss} val_acc {val_acc}')\n",
    "    return best_weights, best_epoch, [best_acc, trn_losses, val_losses, val_accs]"
   ]
  },
  {
   "cell_type": "markdown",
   "metadata": {},
   "source": [
    "## Experiment"
   ]
  },
  {
   "cell_type": "code",
   "execution_count": 161,
   "metadata": {},
   "outputs": [
    {
     "name": "stdout",
     "output_type": "stream",
     "text": [
      "Epoch 0/6, trn_loss 1.8972178656029037 val_loss 1.7431529540391195 val_acc 0.46804277542899775\n",
      "Epoch 1/6, trn_loss 1.6569914753099837 val_loss 1.5949686590641263 val_acc 0.5073364834618255\n",
      "Epoch 2/6, trn_loss 1.5376152871733169 val_loss 1.5026694737256518 val_acc 0.559810992290475\n",
      "Epoch 3/6, trn_loss 1.4589654204854927 val_loss 1.460282856509799 val_acc 0.5792091519522506\n",
      "Epoch 4/6, trn_loss 1.3856041999867712 val_loss 1.3432660791135969 val_acc 0.6110420293459339\n",
      "Epoch 5/6, trn_loss 1.310411271613195 val_loss 1.2909954470537959 val_acc 0.6167619995026112\n",
      "Epoch 6/6, trn_loss 1.2490357261195602 val_loss 1.2701187544162311 val_acc 0.6167619995026112\n"
     ]
    }
   ],
   "source": [
    "layers = 1\n",
    "hidden_dim = 150\n",
    "model = RNN(n_letters, hidden_dim, la, n_categories, 'lstm')\n",
    "model = model.to(config.device)\n",
    "best_weights, best_epoch, [best_acc, trn_losses, val_losses, val_accs] = fit(ds_trn, ds_val, dl_trn, dl_val, model, criterion)"
   ]
  },
  {
   "cell_type": "code",
   "execution_count": 162,
   "metadata": {},
   "outputs": [
    {
     "name": "stdout",
     "output_type": "stream",
     "text": [
      "Epoch 0/6, trn_loss 1.9122176482026796 val_loss 1.7969800475097837 val_acc 0.46804277542899775\n",
      "Epoch 1/6, trn_loss 1.7504550090942725 val_loss 1.7272331570349042 val_acc 0.4807261875155434\n",
      "Epoch 2/6, trn_loss 1.705113486761591 val_loss 1.6938187260003317 val_acc 0.4837105197712012\n",
      "Epoch 3/6, trn_loss 1.6640736917219314 val_loss 1.6339188889851646 val_acc 0.5175329520019896\n",
      "Epoch 4/6, trn_loss 1.5988786786913396 val_loss 1.6005532493193944 val_acc 0.5155433971648844\n",
      "Epoch 5/6, trn_loss 1.5302806583296256 val_loss 1.52691436712704 val_acc 0.5545884108430739\n",
      "Epoch 6/6, trn_loss 1.473787773474754 val_loss 1.4493623931729605 val_acc 0.5687639890574484\n"
     ]
    }
   ],
   "source": [
    "layers = 2\n",
    "hidden_dim = 150\n",
    "model = RNN(n_letters, hidden_dim, layers, n_categories, 'lstm')\n",
    "model = model.to(config.device)\n",
    "best_weights, best_epoch, [best_acc, trn_losses, val_losses, val_accs] = fit(ds_trn, ds_val, dl_trn, dl_val, model, criterion)"
   ]
  },
  {
   "cell_type": "code",
   "execution_count": 163,
   "metadata": {},
   "outputs": [
    {
     "name": "stdout",
     "output_type": "stream",
     "text": [
      "Epoch 0/6, trn_loss 1.890845392923431 val_loss 1.7409703293963084 val_acc 0.46804277542899775\n",
      "Epoch 1/6, trn_loss 1.6550475646300145 val_loss 1.590789935655064 val_acc 0.5090773439442925\n",
      "Epoch 2/6, trn_loss 1.5423326635384464 val_loss 1.5113958536632477 val_acc 0.5309624471524497\n",
      "Epoch 3/6, trn_loss 1.4708431168381437 val_loss 1.453492605733493 val_acc 0.5948768962944541\n",
      "Epoch 4/6, trn_loss 1.4049892367357277 val_loss 1.3675311981212526 val_acc 0.6050733648346183\n",
      "Epoch 5/6, trn_loss 1.34095904798028 val_loss 1.3159466182428694 val_acc 0.6000994777418552\n",
      "Epoch 6/6, trn_loss 1.2837109786283922 val_loss 1.2687332017554178 val_acc 0.6190002486943547\n"
     ]
    }
   ],
   "source": [
    "layers = 1\n",
    "hidden_dim = 300\n",
    "model = RNN(n_letters, hidden_dim, layers, n_categories, 'lstm')\n",
    "model = model.to(config.device)\n",
    "best_weights, best_epoch, [best_acc, trn_losses, val_losses, val_accs] = fit(ds_trn, ds_val, dl_trn, dl_val, model, criterion)"
   ]
  },
  {
   "cell_type": "code",
   "execution_count": 164,
   "metadata": {},
   "outputs": [
    {
     "name": "stdout",
     "output_type": "stream",
     "text": [
      "Epoch 0/6, trn_loss 1.897445331234856 val_loss 1.7841456532478333 val_acc 0.46804277542899775\n",
      "Epoch 1/6, trn_loss 1.7425101468881288 val_loss 1.7286934344068405 val_acc 0.48594876896294453\n",
      "Epoch 2/6, trn_loss 1.7051254466354135 val_loss 1.708345303459773 val_acc 0.4827157423526486\n",
      "Epoch 3/6, trn_loss 1.667121880676642 val_loss 1.6436011242488073 val_acc 0.5058443173339965\n",
      "Epoch 4/6, trn_loss 1.6051663674443841 val_loss 1.5701480550425393 val_acc 0.5374285003730416\n",
      "Epoch 5/6, trn_loss 1.5405509473674326 val_loss 1.5072366105658668 val_acc 0.558318826162646\n",
      "Epoch 6/6, trn_loss 1.4872857190935735 val_loss 1.4912948807080586 val_acc 0.5652822680925143\n"
     ]
    }
   ],
   "source": [
    "layers = 2\n",
    "hidden_dim = 300\n",
    "model = RNN(n_letters, hidden_dim, layers, n_categories, 'lstm')\n",
    "model = model.to(config.device)\n",
    "best_weights, best_epoch, [best_acc, trn_losses, val_losses, val_accs] = fit(ds_trn, ds_val, dl_trn, dl_val, model, criterion)"
   ]
  },
  {
   "cell_type": "code",
   "execution_count": 169,
   "metadata": {},
   "outputs": [
    {
     "name": "stdout",
     "output_type": "stream",
     "text": [
      "Epoch 0/6, trn_loss 1.7694599759649945 val_loss 1.5794980883125276 val_acc 0.5254911713504103\n",
      "Epoch 1/6, trn_loss 1.499583953880219 val_loss 1.4396375557259908 val_acc 0.5729917930862969\n",
      "Epoch 2/6, trn_loss 1.3934069778102327 val_loss 1.3430326022799053 val_acc 0.6088037801541905\n",
      "Epoch 3/6, trn_loss 1.3032091491785183 val_loss 1.275801407321105 val_acc 0.6137776672469535\n",
      "Epoch 4/6, trn_loss 1.2212463732200314 val_loss 1.2021023467892693 val_acc 0.6433722954488933\n",
      "Epoch 5/6, trn_loss 1.1481208667099714 val_loss 1.1820466238118352 val_acc 0.6500870430241233\n",
      "Epoch 6/6, trn_loss 1.0874374105012512 val_loss 1.1476765850943231 val_acc 0.6575478736632678\n"
     ]
    }
   ],
   "source": [
    "layers = 1\n",
    "hidden_dim = 150\n",
    "model = RNN(n_letters, hidden_dim, layers, n_categories, 'gru')\n",
    "model = model.to(config.device)\n",
    "best_weights, best_epoch, [best_acc, trn_losses, val_losses, val_accs] = fit(ds_trn, ds_val, dl_trn, dl_val, model, criterion)"
   ]
  },
  {
   "cell_type": "code",
   "execution_count": 170,
   "metadata": {},
   "outputs": [
    {
     "name": "stdout",
     "output_type": "stream",
     "text": [
      "Epoch 0/6, trn_loss 1.767064575714419 val_loss 1.5645123677594321 val_acc 0.5192738124844566\n",
      "Epoch 1/6, trn_loss 1.487764543033691 val_loss 1.415187212919432 val_acc 0.5839343446903755\n",
      "Epoch 2/6, trn_loss 1.3715385518879055 val_loss 1.3359942615978302 val_acc 0.6122855011191246\n",
      "Epoch 3/6, trn_loss 1.2924938581260552 val_loss 1.2868491359173306 val_acc 0.6040785874160657\n",
      "Epoch 4/6, trn_loss 1.2187535796032485 val_loss 1.2068800275760985 val_acc 0.6453618502859985\n",
      "Epoch 5/6, trn_loss 1.1496418692260624 val_loss 1.1741615238170775 val_acc 0.6488435712509326\n",
      "Epoch 6/6, trn_loss 1.0943085483286485 val_loss 1.2141823357059842 val_acc 0.6376523252922158\n"
     ]
    }
   ],
   "source": [
    "layers = 1\n",
    "hidden_dim = 300\n",
    "model = RNN(n_letters, hidden_dim, layers, n_categories, 'gru')\n",
    "model = model.to(config.device)\n",
    "best_weights, best_epoch, [best_acc, trn_losses, val_losses, val_accs] = fit(ds_trn, ds_val, dl_trn, dl_val, model, criterion)"
   ]
  },
  {
   "cell_type": "code",
   "execution_count": 171,
   "metadata": {},
   "outputs": [
    {
     "name": "stdout",
     "output_type": "stream",
     "text": [
      "Epoch 0/6, trn_loss 1.5871915025896286 val_loss 1.3879226614085456 val_acc 0.586421288236757\n",
      "Epoch 1/6, trn_loss 1.2161246435753852 val_loss 1.1855949469738536 val_acc 0.6563044018900771\n",
      "Epoch 2/6, trn_loss 1.0776686061960292 val_loss 1.4837458298083335 val_acc 0.5478736632678438\n",
      "Epoch 3/6, trn_loss 1.0013843760102157 val_loss 1.1510514985947382 val_acc 0.6620243720467546\n",
      "Epoch 4/6, trn_loss 0.9462597969459348 val_loss 1.058848736778138 val_acc 0.6669982591395175\n",
      "Epoch 5/6, trn_loss 0.9014826111822014 val_loss 1.0317272775703006 val_acc 0.6908729171847799\n",
      "Epoch 6/6, trn_loss 0.8687519503096898 val_loss 1.1088027637156228 val_acc 0.6672469534941556\n"
     ]
    }
   ],
   "source": [
    "layers = 1\n",
    "hidden_dim = 150\n",
    "model = RNN(n_letters, hidden_dim, layers, n_categories, 'rnn')\n",
    "model = model.to(config.device)\n",
    "best_weights, best_epoch, [best_acc, trn_losses, val_losses, val_accs] = fit(ds_trn, ds_val, dl_trn, dl_val, model, criterion)"
   ]
  },
  {
   "cell_type": "code",
   "execution_count": 172,
   "metadata": {},
   "outputs": [
    {
     "name": "stdout",
     "output_type": "stream",
     "text": [
      "Epoch 0/6, trn_loss 1.2576483960746643 val_loss 1.127709412094492 val_acc 0.6674956478487938\n",
      "Epoch 1/6, trn_loss 0.9656976118849971 val_loss 1.084565561910495 val_acc 0.6761999502611291\n",
      "Epoch 2/6, trn_loss 0.8533977480652933 val_loss 1.0397173886689284 val_acc 0.6951007212136284\n",
      "Epoch 3/6, trn_loss 0.7579346304406765 val_loss 0.9940756782611428 val_acc 0.7070380502362597\n",
      "Epoch 4/6, trn_loss 0.6751414438812768 val_loss 1.0972607438168813 val_acc 0.6965928873414573\n",
      "Epoch 5/6, trn_loss 0.6130959760034032 val_loss 1.0808018267792097 val_acc 0.7077841333001741\n",
      "Epoch 6/6, trn_loss 0.558708814848979 val_loss 1.0662486860331717 val_acc 0.714250186520766\n"
     ]
    }
   ],
   "source": [
    "layers = 1\n",
    "hidden_dim = 200\n",
    "dl_trn = DataLoader(ds_trn, batch_size=1, collate_fn=collate_fn, shuffle=True)\n",
    "dl_val = DataLoader(ds_val, batch_size=1, collate_fn=collate_fn, shuffle=True)\n",
    "model = RNN(n_letters, hidden_dim, layers, n_categories, 'gru')\n",
    "model = model.to(config.device)\n",
    "best_weights, best_epoch, [best_acc, trn_losses, val_losses, val_accs] = fit(ds_trn, ds_val, dl_trn, dl_val, model, criterion)"
   ]
  },
  {
   "cell_type": "code",
   "execution_count": 174,
   "metadata": {},
   "outputs": [],
   "source": [
    "batch1_trn_losses = trn_losses\n",
    "batch1_val_losses = val_losses\n",
    "batch1_val_accs = val_accs"
   ]
  },
  {
   "cell_type": "code",
   "execution_count": 175,
   "metadata": {},
   "outputs": [
    {
     "name": "stdout",
     "output_type": "stream",
     "text": [
      "Epoch 0/6, trn_loss 1.6839030090705545 val_loss 1.4833076625101027 val_acc 0.5695100721213628\n",
      "Epoch 1/6, trn_loss 1.3982380176911764 val_loss 1.3349348569922057 val_acc 0.6093011688634667\n",
      "Epoch 2/6, trn_loss 1.2698632963883179 val_loss 1.2332709131406496 val_acc 0.6249689132056703\n",
      "Epoch 3/6, trn_loss 1.1590165081590524 val_loss 1.1577323265466146 val_acc 0.6515792091519522\n",
      "Epoch 4/6, trn_loss 1.0723354030460825 val_loss 1.147997388029217 val_acc 0.6568017905993534\n",
      "Epoch 5/6, trn_loss 1.0174261093566457 val_loss 1.1057465144851368 val_acc 0.656055707535439\n",
      "Epoch 6/6, trn_loss 0.9743166185154639 val_loss 1.1361311002271643 val_acc 0.6543148470529719\n"
     ]
    }
   ],
   "source": [
    "layers = 1\n",
    "hidden_dim = 200\n",
    "dl_trn = DataLoader(ds_trn, batch_size=10, collate_fn=collate_fn, shuffle=True)\n",
    "dl_val = DataLoader(ds_val, batch_size=10, collate_fn=collate_fn, shuffle=True)\n",
    "model = RNN(n_letters, hidden_dim, layers, n_categories, 'gru')\n",
    "model = model.to(config.device)\n",
    "best_weights, best_epoch, [best_acc, trn_losses, val_losses, val_accs] = fit(ds_trn, ds_val, dl_trn, dl_val, model, criterion)"
   ]
  },
  {
   "cell_type": "code",
   "execution_count": 176,
   "metadata": {},
   "outputs": [],
   "source": [
    "batch2_trn_losses = trn_losses\n",
    "batch2_val_losses = val_losses\n",
    "batch2_val_accs = val_accs"
   ]
  },
  {
   "cell_type": "code",
   "execution_count": 177,
   "metadata": {},
   "outputs": [
    {
     "name": "stdout",
     "output_type": "stream",
     "text": [
      "Epoch 0/6, trn_loss 1.8847045411369694 val_loss 1.706671913464864 val_acc 0.46804277542899775\n",
      "Epoch 1/6, trn_loss 1.624128348124561 val_loss 1.5407391685026663 val_acc 0.5272320318328774\n",
      "Epoch 2/6, trn_loss 1.5077110115271897 val_loss 1.4570306411495915 val_acc 0.5610544640636658\n",
      "Epoch 3/6, trn_loss 1.4409453457415993 val_loss 1.4260856054447315 val_acc 0.5953742850037305\n",
      "Epoch 4/6, trn_loss 1.3863749446263953 val_loss 1.4039950454676593 val_acc 0.5986073116140264\n",
      "Epoch 5/6, trn_loss 1.340983068876302 val_loss 1.331435501133954 val_acc 0.6177567769211639\n",
      "Epoch 6/6, trn_loss 1.2969409706654833 val_loss 1.2732530174431977 val_acc 0.6331758269087292\n"
     ]
    }
   ],
   "source": [
    "layers = 1\n",
    "hidden_dim = 200\n",
    "dl_trn = DataLoader(ds_trn, batch_size=30, collate_fn=collate_fn, shuffle=True)\n",
    "dl_val = DataLoader(ds_val, batch_size=30, collate_fn=collate_fn, shuffle=True)\n",
    "model = RNN(n_letters, hidden_dim, layers, n_categories, 'gru')\n",
    "model = model.to(config.device)\n",
    "best_weights, best_epoch, [best_acc, trn_losses, val_losses, val_accs] = fit(ds_trn, ds_val, dl_trn, dl_val, model, criterion)"
   ]
  },
  {
   "cell_type": "code",
   "execution_count": 178,
   "metadata": {},
   "outputs": [],
   "source": [
    "batch3_trn_losses = trn_losses\n",
    "batch3_val_losses = val_losses\n",
    "batch3_val_accs = val_accs"
   ]
  },
  {
   "cell_type": "code",
   "execution_count": 186,
   "metadata": {},
   "outputs": [
    {
     "data": {
      "image/png": "[encoded data removed]",
      "text/plain": [
       "<Figure size 432x288 with 1 Axes>"
      ]
     },
     "metadata": {
      "needs_background": "light"
     },
     "output_type": "display_data"
    }
   ],
   "source": [
    "plt.plot(np.arange(7), batch1_trn_losses, label='GRU, layer=1, hidden=200, batch=1')\n",
    "plt.plot(np.arange(7), batch2_trn_losses, label='GRU, layer=1, hidden=200, batch=10')\n",
    "plt.plot(np.arange(7), batch3_trn_losses, label='GRU, layer=1, hidden=200, batch=30')\n",
    "plt.legend()\n",
    "plt.savefig('train_losses.png')"
   ]
  },
  {
   "cell_type": "code",
   "execution_count": 187,
   "metadata": {},
   "outputs": [
    {
     "data": {
      "image/png": "[encoded data removed]",
      "text/plain": [
       "<Figure size 432x288 with 1 Axes>"
      ]
     },
     "metadata": {
      "needs_background": "light"
     },
     "output_type": "display_data"
    }
   ],
   "source": [
    "plt.plot(np.arange(7), batch1_val_losses, label='GRU, layer=1, hidden=200, batch=1')\n",
    "plt.plot(np.arange(7), batch2_val_losses, label='GRU, layer=1, hidden=200, batch=10')\n",
    "plt.plot(np.arange(7), batch3_val_losses, label='GRU, layer=1, hidden=200, batch=30')\n",
    "plt.legend()\n",
    "plt.savefig('val_losses.png')"
   ]
  },
  {
   "cell_type": "code",
   "execution_count": 188,
   "metadata": {},
   "outputs": [
    {
     "data": {
      "image/png": "[encoded data removed]",
      "text/plain": [
       "<Figure size 432x288 with 1 Axes>"
      ]
     },
     "metadata": {
      "needs_background": "light"
     },
     "output_type": "display_data"
    }
   ],
   "source": [
    "plt.plot(np.arange(7), batch1_val_accs, label='GRU, layer=1, hidden=200, batch=1')\n",
    "plt.plot(np.arange(7), batch2_val_accs, label='GRU, layer=1, hidden=200, batch=10')\n",
    "plt.plot(np.arange(7), batch3_val_accs, label='GRU, layer=1, hidden=200, batch=30')\n",
    "plt.legend()\n",
    "plt.savefig('val_accuracies.png')"
   ]
  },
  {
   "cell_type": "code",
   "execution_count": null,
   "metadata": {},
   "outputs": [],
   "source": []
  }
 ],
 "metadata": {
  "kernelspec": {
   "display_name": "Python 3",
   "language": "python",
   "name": "python3"
  },
  "language_info": {
   "codemirror_mode": {
    "name": "ipython",
    "version": 3
   },
   "file_extension": ".py",
   "mimetype": "text/x-python",
   "name": "python",
   "nbconvert_exporter": "python",
   "pygments_lexer": "ipython3",
   "version": "3.8.1"
  }
 },
 "nbformat": 4,
 "nbformat_minor": 4
}
