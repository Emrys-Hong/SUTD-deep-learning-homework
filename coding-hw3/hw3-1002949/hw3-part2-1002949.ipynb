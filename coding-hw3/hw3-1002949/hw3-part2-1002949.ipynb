{
 "cells": [
  {
   "cell_type": "code",
   "execution_count": 1,
   "metadata": {},
   "outputs": [],
   "source": [
    "import numpy as np, os, sys\n",
    "\n",
    "import matplotlib.pyplot as plt #patch-wise similarities, droi images\n",
    "from matplotlib import ticker, cm\n",
    "\n",
    "import torch.nn as nn\n",
    "import torch.utils.data \n",
    "\n",
    "import torch.optim\n",
    "import torchvision"
   ]
  },
  {
   "cell_type": "code",
   "execution_count": 2,
   "metadata": {},
   "outputs": [],
   "source": [
    "train_data = torchvision.datasets.FashionMNIST('data/', train=True, download=True, )#transform=torchvision.transforms.ToTensor())\n",
    "test_data = torchvision.datasets.FashionMNIST('data/', train=False, download=True, )#transform=torchvision.transforms.ToTensor())"
   ]
  },
  {
   "cell_type": "code",
   "execution_count": 3,
   "metadata": {},
   "outputs": [],
   "source": [
    "class FashionMNISTDataset(torch.utils.data.Dataset):\n",
    "    def __init__(self, x, y):\n",
    "        self.X = x\n",
    "        self.y = y\n",
    "    \n",
    "    def __len__(self):\n",
    "        return len(self.y)\n",
    "    \n",
    "    def __getitem__(self, i):\n",
    "        return self.X[i], self.y[i]"
   ]
  },
  {
   "cell_type": "code",
   "execution_count": 4,
   "metadata": {},
   "outputs": [],
   "source": [
    "dtrain = FashionMNISTDataset(train_data.data.view(train_data.data.size(0), -1).float(), train_data.targets)\n",
    "dtest = FashionMNISTDataset(test_data.data.view(test_data.data.size(0), -1).float(), test_data.targets)"
   ]
  },
  {
   "cell_type": "code",
   "execution_count": 5,
   "metadata": {},
   "outputs": [],
   "source": [
    "params = {'batch_size': 32, 'num_workers': 4}\n",
    "idx_tr, idx_val = list(range(len(dtrain)))[:-10000], list(range(len(dtrain)))[-10000:]\n",
    "tr_sampler = torch.utils.data.sampler.SubsetRandomSampler(idx_tr)\n",
    "val_sampler = torch.utils.data.sampler.SubsetRandomSampler(idx_val)\n",
    "train_loader = torch.utils.data.DataLoader(dtrain, **params, sampler=tr_sampler)\n",
    "val_loader = torch.utils.data.DataLoader(dtrain, **params, sampler=val_sampler)\n",
    "test_loader = torch.utils.data.DataLoader(dtest, **params)"
   ]
  },
  {
   "cell_type": "code",
   "execution_count": 75,
   "metadata": {},
   "outputs": [],
   "source": [
    "class Model(nn.Module):\n",
    "    def __init__(self, d1, d2, din=28*28, dout=10):\n",
    "        super().__init__()\n",
    "        self.fc1 = torch.nn.Linear(din, d1) # 300\n",
    "        self.fc2 = torch.nn.Linear(d1, d2) # 100\n",
    "        self.out = torch.nn.Linear(d2, dout) # 10\n",
    "\n",
    "    def forward(self, x):\n",
    "\n",
    "        x = torch.relu(self.fc1(x))\n",
    "        x = torch.relu(self.fc2(x))\n",
    "        output = torch.softmax(self.out(x), dim=1)\n",
    "        return output"
   ]
  },
  {
   "cell_type": "code",
   "execution_count": 76,
   "metadata": {},
   "outputs": [],
   "source": [
    "\n",
    "def train_epoch(model,  trainloader,  criterion, device, optimizer ):\n",
    "    model.train()\n",
    " \n",
    "    losses = list()\n",
    "    for batch_idx, data in enumerate(trainloader):\n",
    "\n",
    "        inputs=data[0].to(device)\n",
    "        labels=data[1].to(device)\n",
    "        optimizer.zero_grad()\n",
    "        output = model(inputs)\n",
    "        loss = criterion(output, labels)\n",
    "        loss.backward()\n",
    "        optimizer.step()\n",
    "\n",
    "        losses.append(loss.item())\n",
    "    return losses\n",
    "\n",
    "\n",
    "def evaluate(model, dataloader, criterion, device):\n",
    "\n",
    "    model.eval()\n",
    "\n",
    "    losses, accs = [], []\n",
    "    with torch.no_grad():\n",
    "        for ctr, data in enumerate(dataloader):\n",
    "            inputs = data[0].to(device)        \n",
    "            outputs = model(inputs)\n",
    "            labels = data[1]\n",
    "            cpuout= outputs.to('cpu')\n",
    "            loss = criterion(outputs, labels)\n",
    "            _, preds = torch.max(cpuout, 1)\n",
    "            accs.append( torch.sum(preds == labels.data).item()/len(labels.data) )\n",
    "            losses.append(loss.item())\n",
    "\n",
    "    return sum(accs)/len(accs), sum(losses)/len(losses)\n",
    "\n",
    "\n",
    "def train_modelcv(dataloader_cvtrain, dataloader_cvtest, dataloader_cvval, model ,  criterion, optimizer, scheduler, num_epochs, device):\n",
    "\n",
    "    best_measure = 0\n",
    "    best_epoch =-1\n",
    "    tr_loss, v_loss, te_loss = [], [], []\n",
    "    tr_acc, v_acc, te_acc = [], [], []\n",
    "    for epoch in range(num_epochs):\n",
    "        print('Epoch {}/{}'.format(epoch, num_epochs - 1))\n",
    "        print('-' * 10)\n",
    "\n",
    "        model.train(True)\n",
    "        losses=train_epoch(model,  dataloader_cvtrain,  criterion,  device , optimizer )\n",
    "\n",
    "        model.train(False)\n",
    "        train_acc, train_loss = evaluate(model, dataloader_cvtrain, criterion, device)\n",
    "        val_acc, val_loss = evaluate(model, dataloader_cvval, criterion, device)\n",
    "        test_acc, test_loss = evaluate(model, dataloader_cvtest, criterion, device)\n",
    "        tr_loss.append(train_loss)\n",
    "        v_loss.append(val_loss)\n",
    "        te_loss.append(test_loss)\n",
    "        tr_acc.append(train_acc)\n",
    "        v_acc.append(val_acc)\n",
    "        te_acc.append(test_acc)\n",
    "        measure = val_acc\n",
    "        if measure > best_measure: #higher is better or lower is better?\n",
    "            bestweights= model.state_dict()\n",
    "            best_measure = measure\n",
    "            best_epoch = epoch\n",
    "            print('current best', measure, ' at epoch ', best_epoch)\n",
    "\n",
    "    return best_epoch, best_measure, bestweights, tr_loss, v_loss, te_loss, tr_acc, v_acc, te_acc"
   ]
  },
  {
   "cell_type": "code",
   "execution_count": 77,
   "metadata": {},
   "outputs": [],
   "source": [
    "batch_size=32\n",
    "#validation batch size\n",
    "valbatch_size=32\n",
    "# number of epochs for training\n",
    "maxnumepochs=5\n",
    "# learning rate\n",
    "learningrate=0.005\n",
    "device=torch.device('cpu')"
   ]
  },
  {
   "cell_type": "code",
   "execution_count": 78,
   "metadata": {},
   "outputs": [],
   "source": [
    "model = Model(300, 100).to(device)\n",
    "criterion = torch.nn.CrossEntropyLoss()\n",
    "optimizer=torch.optim.SGD(model.parameters(),lr=learningrate, momentum=0.0, weight_decay=0)"
   ]
  },
  {
   "cell_type": "code",
   "execution_count": 79,
   "metadata": {},
   "outputs": [
    {
     "name": "stdout",
     "output_type": "stream",
     "text": [
      "Epoch 0/4\n",
      "----------\n",
      "current best 0.3872803514376997  at epoch  0\n",
      "Epoch 1/4\n",
      "----------\n",
      "current best 0.6388777955271565  at epoch  1\n",
      "Epoch 2/4\n",
      "----------\n",
      "current best 0.65625  at epoch  2\n",
      "Epoch 3/4\n",
      "----------\n",
      "Epoch 4/4\n",
      "----------\n"
     ]
    },
    {
     "data": {
      "text/plain": [
       "<All keys matched successfully>"
      ]
     },
     "execution_count": 79,
     "metadata": {},
     "output_type": "execute_result"
    }
   ],
   "source": [
    "best_epoch, best_perfmeasure, bestweights, tr_loss, v_loss, te_loss, tr_acc, v_acc, te_acc = train_modelcv(train_loader, test_loader, val_loader, model, criterion, \n",
    "                                                          optimizer, scheduler=None, num_epochs=maxnumepochs, device=device)\n",
    "model.load_state_dict(bestweights)"
   ]
  },
  {
   "cell_type": "code",
   "execution_count": 88,
   "metadata": {},
   "outputs": [
    {
     "data": {
      "text/plain": [
       "[<matplotlib.lines.Line2D at 0x7fe234100c90>]"
      ]
     },
     "execution_count": 88,
     "metadata": {},
     "output_type": "execute_result"
    },
    {
     "data": {
      "image/png": "[encoded data removed]",
      "text/plain": [
       "<Figure size 432x288 with 1 Axes>"
      ]
     },
     "metadata": {
      "needs_background": "light"
     },
     "output_type": "display_data"
    }
   ],
   "source": [
    "plt.plot(list(range(5)), tr_loss)\n",
    "plt.savefig('train-loss.png')\n",
    "plt.plot(list(range(5)), v_loss)\n",
    "plt.savefig('val-loss.png')\n",
    "plt.plot(list(range(5)), te_loss)\n",
    "plt.savefig('test-loss.png')"
   ]
  },
  {
   "cell_type": "code",
   "execution_count": 87,
   "metadata": {},
   "outputs": [
    {
     "data": {
      "text/plain": [
       "[<matplotlib.lines.Line2D at 0x7fe2d813dcd0>]"
      ]
     },
     "execution_count": 87,
     "metadata": {},
     "output_type": "execute_result"
    },
    {
     "data": {
      "image/png": "[encoded data removed]",
      "text/plain": [
       "<Figure size 432x288 with 1 Axes>"
      ]
     },
     "metadata": {
      "needs_background": "light"
     },
     "output_type": "display_data"
    }
   ],
   "source": [
    "plt.plot(list(range(5)), tr_acc)\n",
    "plt.savefig('train-acc.png')\n",
    "plt.plot(list(range(5)), v_acc)\n",
    "plt.savefig('val-acc.png')\n",
    "plt.plot(list(range(5)), te_acc)\n",
    "plt.savefig('test-acc.png')"
   ]
  },
  {
   "cell_type": "markdown",
   "metadata": {},
   "source": [
    "When you train a deep neural net, then you get after every epoch one model (actually after every minibatch). Why you should not select the best model over all epochs on the test dataset?\n",
    "\n",
    "Because validation set is used to select the correct hyperparameters such as which model we want to make, then we evaluate on the test set so we can know how the model performs to unseen dataset.\n",
    "If we choose the best model on the testset, and we fine tune the model on the test set, we are overfiting it to the test set, therefore we cannot get a relative good estimate of models' performance on the test dataset."
   ]
  },
  {
   "cell_type": "code",
   "execution_count": null,
   "metadata": {},
   "outputs": [],
   "source": []
  }
 ],
 "metadata": {
  "kernelspec": {
   "display_name": "Python 3",
   "language": "python",
   "name": "python3"
  },
  "language_info": {
   "codemirror_mode": {
    "name": "ipython",
    "version": 3
   },
   "file_extension": ".py",
   "mimetype": "text/x-python",
   "name": "python",
   "nbconvert_exporter": "python",
   "pygments_lexer": "ipython3",
   "version": "3.7.6"
  }
 },
 "nbformat": 4,
 "nbformat_minor": 4
}
